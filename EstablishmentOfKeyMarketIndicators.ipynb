{
 "cells": [
  {
   "cell_type": "markdown",
   "metadata": {},
   "source": [
    "### 초기화\n",
    " - 사이트 정보 : https://finance.naver.com/marketindex/"
   ]
  },
  {
   "cell_type": "code",
   "execution_count": 44,
   "metadata": {},
   "outputs": [],
   "source": [
    "import requests\n",
    "\n",
    "from bs4 import BeautifulSoup as bts"
   ]
  },
  {
   "cell_type": "code",
   "execution_count": 45,
   "metadata": {},
   "outputs": [],
   "source": [
    "url = 'https://finance.naver.com/marketindex/'\n",
    "res = requests.get(url)\n",
    "\n",
    "# HTTP 요청 상태 코드 확인\n",
    "if res.status_code != 200:\n",
    "    raise Exception(f\"Failed to retrieve data: {res.status_code}\")"
   ]
  },
  {
   "cell_type": "markdown",
   "metadata": {},
   "source": [
    "### Class 선언 - HTML 2 TEXT"
   ]
  },
  {
   "cell_type": "code",
   "execution_count": 46,
   "metadata": {},
   "outputs": [],
   "source": [
    "class NaverStockService(bts):\n",
    "    def html2text(self, css):\n",
    "        try:\n",
    "            items = self.select(selector=css)\n",
    "            \n",
    "            if not items:\n",
    "                raise Exception(\"No Establishment of Key Market Indicator information found in Naver Stock Service\")\n",
    "            \n",
    "            # 리스트 내포 사용하여 result 리스트 생성\n",
    "            result = [item.text for item in items]\n",
    "\n",
    "            return result\n",
    "        \n",
    "        except requests.RequestException as e:\n",
    "            return [f\"Request error: {e}\"]\n",
    "        except Exception as e:\n",
    "            return [f\"An error occurred: {e}\"]"
   ]
  },
  {
   "cell_type": "code",
   "execution_count": 47,
   "metadata": {},
   "outputs": [],
   "source": [
    "naverStockService = NaverStockService(markup=res.text, features='html.parser')"
   ]
  },
  {
   "cell_type": "markdown",
   "metadata": {},
   "source": [
    "### 환전 고시 환율"
   ]
  },
  {
   "cell_type": "code",
   "execution_count": 48,
   "metadata": {},
   "outputs": [],
   "source": [
    "concurrencyUnitCss = '#exchangeList > li > a > h3 > span.blind'\n",
    "exchangePostedRateCss = '#exchangeList span.value'"
   ]
  },
  {
   "cell_type": "code",
   "execution_count": 49,
   "metadata": {},
   "outputs": [],
   "source": [
    "resultConcurrencyUnit = naverStockService.html2text(concurrencyUnitCss)"
   ]
  },
  {
   "cell_type": "code",
   "execution_count": 50,
   "metadata": {},
   "outputs": [],
   "source": [
    "resultExchangePostedRate = naverStockService.html2text(exchangePostedRateCss)"
   ]
  },
  {
   "cell_type": "code",
   "execution_count": 51,
   "metadata": {},
   "outputs": [
    {
     "name": "stdout",
     "output_type": "stream",
     "text": [
      "[환전 고시 환율]\n",
      "미국 USD = 1,374.60 원\n",
      "일본 JPY(100엔) = 942.02 원\n",
      "유럽연합 EUR = 1,505.12 원\n",
      "중국 CNY = 192.38 원\n"
     ]
    }
   ],
   "source": [
    "print('[환전 고시 환율]')\n",
    "for concurrencyUnit, exchangePostedRate in zip(resultConcurrencyUnit, resultExchangePostedRate):\n",
    "    print(f\"{concurrencyUnit} = {exchangePostedRate} 원\")"
   ]
  },
  {
   "cell_type": "markdown",
   "metadata": {},
   "source": [
    "### 국제 시장 환율"
   ]
  },
  {
   "cell_type": "code",
   "execution_count": 52,
   "metadata": {},
   "outputs": [],
   "source": [
    "worldExchangeTitleCss = '#worldExchangeList > li > a > h3 > span.blind'\n",
    "worldExchangeRateCss = '#worldExchangeList span.value'\n",
    "worldExchangeUnitCss = '#worldExchangeList span > span'\n"
   ]
  },
  {
   "cell_type": "code",
   "execution_count": 53,
   "metadata": {},
   "outputs": [],
   "source": [
    "resultWorldExchangeTitle = naverStockService.html2text(worldExchangeTitleCss)"
   ]
  },
  {
   "cell_type": "code",
   "execution_count": 54,
   "metadata": {},
   "outputs": [],
   "source": [
    "resultWorldExchangeRate = naverStockService.html2text(worldExchangeRateCss)"
   ]
  },
  {
   "cell_type": "code",
   "execution_count": 55,
   "metadata": {},
   "outputs": [],
   "source": [
    "resultWorldExchangeUnit = naverStockService.html2text(worldExchangeUnitCss)"
   ]
  },
  {
   "cell_type": "code",
   "execution_count": 61,
   "metadata": {},
   "outputs": [
    {
     "name": "stdout",
     "output_type": "stream",
     "text": [
      "[국제 시장 환율]\n"
     ]
    },
    {
     "ename": "NameError",
     "evalue": "name 'resultWorldExchangeUni' is not defined",
     "output_type": "error",
     "traceback": [
      "\u001b[1;31m---------------------------------------------------------------------------\u001b[0m",
      "\u001b[1;31mNameError\u001b[0m                                 Traceback (most recent call last)",
      "Cell \u001b[1;32mIn[61], line 2\u001b[0m\n\u001b[0;32m      1\u001b[0m \u001b[38;5;28mprint\u001b[39m(\u001b[38;5;124m'\u001b[39m\u001b[38;5;124m[국제 시장 환율]\u001b[39m\u001b[38;5;124m'\u001b[39m)\n\u001b[1;32m----> 2\u001b[0m \u001b[38;5;28;01mfor\u001b[39;00m worldExchangeTitle, worldExchangeRate, worldExchangeUnit \u001b[38;5;129;01min\u001b[39;00m \u001b[38;5;28mzip\u001b[39m(resultWorldExchangeTitle, resultWorldExchangeRate, \u001b[43mresultWorldExchangeUni\u001b[49m):\n\u001b[0;32m      3\u001b[0m     \u001b[38;5;28mprint\u001b[39m(\u001b[38;5;124mf\u001b[39m\u001b[38;5;124m\"\u001b[39m\u001b[38;5;132;01m{\u001b[39;00mworldExchangeTitle\u001b[38;5;132;01m}\u001b[39;00m\u001b[38;5;124m = \u001b[39m\u001b[38;5;132;01m{\u001b[39;00mworldExchangeRate\u001b[38;5;132;01m}\u001b[39;00m\u001b[38;5;124m \u001b[39m\u001b[38;5;132;01m{\u001b[39;00mworldExchangeUnit\u001b[38;5;132;01m}\u001b[39;00m\u001b[38;5;124m\"\u001b[39m)\n",
      "\u001b[1;31mNameError\u001b[0m: name 'resultWorldExchangeUni' is not defined"
     ]
    }
   ],
   "source": [
    "print('[국제 시장 환율]')\n",
    "for worldExchangeTitle, worldExchangeRate, worldExchangeUnit in zip(resultWorldExchangeTitle, resultWorldExchangeRate, resultWorldExchangeUnit):\n",
    "    print(f\"{worldExchangeTitle} = {worldExchangeRate} {worldExchangeUnit}\")"
   ]
  },
  {
   "cell_type": "markdown",
   "metadata": {},
   "source": [
    "### 유가 / 금 시세"
   ]
  },
  {
   "cell_type": "code",
   "execution_count": 57,
   "metadata": {},
   "outputs": [],
   "source": [
    "oilGoldListTitleCss = '#oilGoldList > li > a > h3 > span.blind'\n",
    "oilGoldListRateCss = '#oilGoldList span.value'\n",
    "oilGoldListUnitCss = '#oilGoldList span > span'"
   ]
  },
  {
   "cell_type": "code",
   "execution_count": 58,
   "metadata": {},
   "outputs": [],
   "source": [
    "resultOilGoldListTitle = naverStockService.html2text(oilGoldListTitleCss)"
   ]
  },
  {
   "cell_type": "code",
   "execution_count": 59,
   "metadata": {},
   "outputs": [],
   "source": [
    "resultOilGoldListRate = naverStockService.html2text(oilGoldListRateCss)"
   ]
  },
  {
   "cell_type": "code",
   "execution_count": 60,
   "metadata": {},
   "outputs": [],
   "source": [
    "resultOilGoldListUnit = naverStockService.html2text(oilGoldListUnitCss)"
   ]
  },
  {
   "cell_type": "code",
   "execution_count": null,
   "metadata": {},
   "outputs": [],
   "source": [
    "print('[유가 금 시세]')\n",
    "for worldExchangeTitle, worldExchangeRate, worldExchangeUnit in zip(resultOilGoldListTitle, resultOilGoldListRate, resultOilGoldListUnit):\n",
    "    print(f\"{worldExchangeTitle} = {worldExchangeRate} {worldExchangeUnit}\")"
   ]
  }
 ],
 "metadata": {
  "kernelspec": {
   "display_name": "DataAnalysisProcess",
   "language": "python",
   "name": "python3"
  },
  "language_info": {
   "codemirror_mode": {
    "name": "ipython",
    "version": 3
   },
   "file_extension": ".py",
   "mimetype": "text/x-python",
   "name": "python",
   "nbconvert_exporter": "python",
   "pygments_lexer": "ipython3",
   "version": "3.11.8"
  }
 },
 "nbformat": 4,
 "nbformat_minor": 2
}
