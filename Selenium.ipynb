{
 "cells": [
  {
   "cell_type": "markdown",
   "metadata": {},
   "source": [
    "# Selenium\n",
    "- Selenium은 다양한 웹 브라우저에서 웹 기반 애플리케이션의 기능을 테스트하는 것을 목적으로 자동화하려는 목적\n",
    "  - Selenium Client는 WebDriver와 Browser Driver 로 구성\n",
    "- 웹 브라우저를 리모트로 관리\n",
    "  - time.sleep 기능 추가\n",
    "- 단점\n",
    "  - 느림\n",
    "- 사용처\n",
    "  - Naver Cafe"
   ]
  },
  {
   "cell_type": "markdown",
   "metadata": {},
   "source": [
    "### 초기화"
   ]
  },
  {
   "cell_type": "code",
   "execution_count": 15,
   "metadata": {},
   "outputs": [],
   "source": [
    "from selenium.webdriver.chrome.service import Service\n",
    "from selenium.webdriver.chrome.options import Options\n",
    "\n",
    "from selenium import webdriver\n",
    "from selenium.webdriver.common.keys import Keys\n",
    "from selenium.webdriver.common.by import By\n",
    "\n",
    "from bs4 import BeautifulSoup as bts\n",
    "\n",
    "import time"
   ]
  },
  {
   "cell_type": "code",
   "execution_count": 16,
   "metadata": {},
   "outputs": [],
   "source": [
    "# '\\'는 escape이고, (기능이 있는) 메타 문자의 기능을 해제하는 기능을 가지고 있음\n",
    "#path = 'C:\\\\tools\\\\chromedriver-win64'\n",
    "\n",
    "# raw string\n",
    "path = r'C:\\tools\\chromedriver-win64\\chromedriver.exe'\n"
   ]
  },
  {
   "cell_type": "markdown",
   "metadata": {},
   "source": [
    "### 리모트 브라우저 옵션 설정"
   ]
  },
  {
   "cell_type": "code",
   "execution_count": 17,
   "metadata": {},
   "outputs": [],
   "source": [
    "options = Options()\n",
    "\n",
    "options.add_argument('window-size=1280, 960') # 리모트 브라우저 창의 가로, 세로 픽셀 크기를 설정\n",
    "options.add_argument('headless') # 리모트 브라우저를 띄우지 않는 Ghost Driver 로 설정"
   ]
  },
  {
   "cell_type": "code",
   "execution_count": 18,
   "metadata": {},
   "outputs": [],
   "source": [
    "remote = webdriver.Chrome(service=Service(executable_path=path), options=options)"
   ]
  },
  {
   "cell_type": "code",
   "execution_count": 19,
   "metadata": {},
   "outputs": [],
   "source": [
    "remote.get(url = 'https://finance.naver.com')\n",
    "\n",
    "# Selenium은 타겟 웹 페이지로 이동할 때 모든 리소스를 실행하도록 기다림\n",
    "#remote.implicitly_wait(time_to_wait=3)\n",
    "\n",
    "# time.sleep()을 사용하는게 더 좋다\n",
    "time.sleep(3) "
   ]
  },
  {
   "cell_type": "code",
   "execution_count": 20,
   "metadata": {},
   "outputs": [],
   "source": [
    "# Type. xpath\n",
    "query = remote.find_element(\n",
    "    by = 'xpath',\n",
    "    value = '//*[@id=\"stock_items\"]'\n",
    ")"
   ]
  },
  {
   "cell_type": "code",
   "execution_count": 21,
   "metadata": {},
   "outputs": [],
   "source": [
    "# Type. css selector\n",
    "query = remote.find_element(\n",
    "    by = 'css selector',\n",
    "    value = '#stock_items'\n",
    ")"
   ]
  },
  {
   "cell_type": "code",
   "execution_count": 22,
   "metadata": {},
   "outputs": [],
   "source": [
    "query.send_keys('삼성전자', Keys.ENTER)\n",
    "time.sleep(3) "
   ]
  },
  {
   "cell_type": "code",
   "execution_count": 23,
   "metadata": {},
   "outputs": [],
   "source": [
    "stock = remote.find_element(by = By.LINK_TEXT, value = '삼성전자')\n",
    "stock.click()\n",
    "time.sleep(3)"
   ]
  },
  {
   "cell_type": "code",
   "execution_count": 24,
   "metadata": {},
   "outputs": [],
   "source": [
    "# 스크롤 맨 밑으로 이동하기\n",
    "#remote.execute_script(script = 'window.scrollBy(0, 2000)')\n",
    "remote.execute_script(script = 'window.scrollTo(0, document.body.scrollHeight)')"
   ]
  },
  {
   "cell_type": "code",
   "execution_count": 25,
   "metadata": {},
   "outputs": [
    {
     "name": "stdout",
     "output_type": "stream",
     "text": [
      "7\n",
      "2\n",
      ",\n",
      "5\n",
      "0\n",
      "0\n"
     ]
    }
   ],
   "source": [
    "# 텍스트 수집하기\n",
    "items = remote.find_elements(by = By.CSS_SELECTOR, value = 'p.no_today > em > span')\n",
    "\n",
    "for item in items:\n",
    "    print(item.text)"
   ]
  },
  {
   "cell_type": "code",
   "execution_count": 26,
   "metadata": {},
   "outputs": [
    {
     "name": "stdout",
     "output_type": "stream",
     "text": [
      "7\n",
      "2\n",
      ",\n",
      "5\n",
      "0\n",
      "0\n"
     ]
    }
   ],
   "source": [
    "# BS4 라이브러리로 HTML 데이터 처리\n",
    "soup = bts(markup=remote.page_source, features='html.parser')\n",
    "\n",
    "items = soup.select(selector = 'p.no_today > em > span')\n",
    "\n",
    "for item in items:\n",
    "    print(item.text)"
   ]
  },
  {
   "cell_type": "code",
   "execution_count": 27,
   "metadata": {},
   "outputs": [
    {
     "data": {
      "text/plain": [
       "'72,500'"
      ]
     },
     "execution_count": 27,
     "metadata": {},
     "output_type": "execute_result"
    }
   ],
   "source": [
    "result = [item.text for item in items]\n",
    "\n",
    "''.join(result)"
   ]
  },
  {
   "cell_type": "code",
   "execution_count": 28,
   "metadata": {},
   "outputs": [],
   "source": [
    "# Remote 브라우저 종료하기\n",
    "remote.quit()"
   ]
  }
 ],
 "metadata": {
  "kernelspec": {
   "display_name": "DataAnalysisProcess",
   "language": "python",
   "name": "python3"
  },
  "language_info": {
   "codemirror_mode": {
    "name": "ipython",
    "version": 3
   },
   "file_extension": ".py",
   "mimetype": "text/x-python",
   "name": "python",
   "nbconvert_exporter": "python",
   "pygments_lexer": "ipython3",
   "version": "3.11.8"
  }
 },
 "nbformat": 4,
 "nbformat_minor": 2
}
