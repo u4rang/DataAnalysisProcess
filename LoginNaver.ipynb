{
 "cells": [
  {
   "cell_type": "code",
   "execution_count": null,
   "metadata": {},
   "outputs": [],
   "source": [
    "import requests\n",
    "from bs4 import BeautifulSoup\n",
    "\n",
    "# 세션 시작\n",
    "session = requests.Session()\n",
    "\n",
    "# 로그인 페이지 접근\n",
    "login_url = 'https://nid.naver.com/nidlogin.login'\n",
    "login_page = session.get(login_url)\n",
    "\n",
    "# 로그인 페이지에서 csrf 토큰 추출\n",
    "soup = BeautifulSoup(login_page.content, 'html.parser')\n",
    "csrf_token = soup.find('input', {'name': 'csrf_token'})['value']\n",
    "\n",
    "# 로그인 데이터 설정\n",
    "login_data = {\n",
    "    'csrf_token': csrf_token,\n",
    "    'id': 'u4rang',  # 네이버 아이디\n",
    "    'pw': 'NAVrlarudghks0!'  # 네이버 비밀번호\n",
    "}\n",
    "\n",
    "# 로그인 시도\n",
    "response = session.post(login_url, data=login_data)\n",
    "\n",
    "# 로그인 결과 확인\n",
    "if response.ok:\n",
    "    print('로그인 성공')\n",
    "else:\n",
    "    print('로그인 실패')\n",
    "\n",
    "# 이후의 네이버 서비스 접근\n",
    "# 예를 들어 네이버 메일 페이지 접근\n",
    "mail_page_url = 'https://mail.naver.com'\n",
    "mail_page = session.get(mail_page_url)\n",
    "\n",
    "# 결과 출력\n",
    "print(mail_page.text)\n"
   ]
  }
 ],
 "metadata": {
  "language_info": {
   "name": "python"
  }
 },
 "nbformat": 4,
 "nbformat_minor": 2
}
