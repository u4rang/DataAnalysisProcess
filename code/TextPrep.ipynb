{
 "cells": [
  {
   "cell_type": "markdown",
   "metadata": {},
   "source": [
    "# 비정형 데이터 전처리"
   ]
  },
  {
   "cell_type": "code",
   "execution_count": 1,
   "metadata": {},
   "outputs": [],
   "source": [
    "import os\n",
    "import numpy as np\n",
    "import pandas as pd\n",
    "\n",
    "from kiwipiepy import Kiwi\n",
    "from kiwipiepy.utils import Stopwords\n",
    "from nltk import ngrams"
   ]
  },
  {
   "cell_type": "code",
   "execution_count": 2,
   "metadata": {},
   "outputs": [
    {
     "data": {
      "text/plain": [
       "'c:\\\\git\\\\DataAnalysisProcess\\\\code'"
      ]
     },
     "execution_count": 2,
     "metadata": {},
     "output_type": "execute_result"
    }
   ],
   "source": [
    "os.getcwd()"
   ]
  },
  {
   "cell_type": "code",
   "execution_count": 3,
   "metadata": {},
   "outputs": [],
   "source": [
    "os.chdir('../data')"
   ]
  },
  {
   "cell_type": "code",
   "execution_count": 4,
   "metadata": {},
   "outputs": [
    {
     "data": {
      "text/plain": [
       "['APT_Price_2023.xlsx',\n",
       " 'iris.csv',\n",
       " 'iris.json',\n",
       " 'iris.parquet',\n",
       " 'iris.tsv',\n",
       " 'iris.xlsx',\n",
       " 'Stock_News_202301.xlsx']"
      ]
     },
     "execution_count": 4,
     "metadata": {},
     "output_type": "execute_result"
    }
   ],
   "source": [
    "os.listdir()"
   ]
  },
  {
   "cell_type": "code",
   "execution_count": 5,
   "metadata": {},
   "outputs": [
    {
     "data": {
      "text/html": [
       "<div>\n",
       "<style scoped>\n",
       "    .dataframe tbody tr th:only-of-type {\n",
       "        vertical-align: middle;\n",
       "    }\n",
       "\n",
       "    .dataframe tbody tr th {\n",
       "        vertical-align: top;\n",
       "    }\n",
       "\n",
       "    .dataframe thead th {\n",
       "        text-align: right;\n",
       "    }\n",
       "</style>\n",
       "<table border=\"1\" class=\"dataframe\">\n",
       "  <thead>\n",
       "    <tr style=\"text-align: right;\">\n",
       "      <th></th>\n",
       "      <th>일자</th>\n",
       "      <th>제목</th>\n",
       "      <th>본문</th>\n",
       "      <th>링크</th>\n",
       "    </tr>\n",
       "  </thead>\n",
       "  <tbody>\n",
       "    <tr>\n",
       "      <th>0</th>\n",
       "      <td>2023-01-01</td>\n",
       "      <td>침체 우려 속 ‘1월 효과’ 기대... 美 금리 방향성 가장 큰 변수 [주간 증시 전망]</td>\n",
       "      <td>\\n\\t\\t\\t\\t\\t\\t\\t\\t\\t\\t1월 첫주 증시는 연말 증시 부진을 만회할 ...</td>\n",
       "      <td>/news/news_read.naver?article_id=0004949843&amp;of...</td>\n",
       "    </tr>\n",
       "    <tr>\n",
       "      <th>1</th>\n",
       "      <td>2023-01-01</td>\n",
       "      <td>[펀드와치]급락장에 웃은 코스닥 인버스…\"1월 효과 주목\"</td>\n",
       "      <td>\\n\\t\\t\\t\\t\\t\\t\\t\\t\\t\\t막주 국내 증시 인플레 부담·긴축·배당락에 ...</td>\n",
       "      <td>/news/news_read.naver?article_id=0005397624&amp;of...</td>\n",
       "    </tr>\n",
       "    <tr>\n",
       "      <th>2</th>\n",
       "      <td>2023-01-01</td>\n",
       "      <td>[주간증시전망]1월효과에 쏠리는 눈…종목장세 전망</td>\n",
       "      <td>\\n\\t\\t\\t\\t\\t\\t\\t\\t\\t\\t경기침체 우려에 1월효과 '중립' 무게장단기...</td>\n",
       "      <td>/news/news_read.naver?article_id=0005397588&amp;of...</td>\n",
       "    </tr>\n",
       "    <tr>\n",
       "      <th>3</th>\n",
       "      <td>2023-01-01</td>\n",
       "      <td>'최악 2022' 넘긴 美증시, 새해 상반기 더 나쁠 수 있지만…[월가시각]</td>\n",
       "      <td>\\n\\t\\t\\t\\t\\t\\t\\t\\t\\t\\t['상저하고' 전망이 대세… 관건은 경기침체...</td>\n",
       "      <td>/news/news_read.naver?article_id=0004835033&amp;of...</td>\n",
       "    </tr>\n",
       "    <tr>\n",
       "      <th>4</th>\n",
       "      <td>2023-01-02</td>\n",
       "      <td>[마켓뷰] 새해 첫 거래 코스피·코스닥 모두 하락…외국인·기관 순매도에 약세 전환</td>\n",
       "      <td>\\n\\t\\t\\t\\t\\t\\t\\t\\t\\t\\t시총 상위 종목 10개는 모두 상승  현대·...</td>\n",
       "      <td>/news/news_read.naver?article_id=0000866844&amp;of...</td>\n",
       "    </tr>\n",
       "  </tbody>\n",
       "</table>\n",
       "</div>"
      ],
      "text/plain": [
       "           일자                                                 제목  \\\n",
       "0  2023-01-01  침체 우려 속 ‘1월 효과’ 기대... 美 금리 방향성 가장 큰 변수 [주간 증시 전망]   \n",
       "1  2023-01-01                   [펀드와치]급락장에 웃은 코스닥 인버스…\"1월 효과 주목\"   \n",
       "2  2023-01-01                        [주간증시전망]1월효과에 쏠리는 눈…종목장세 전망   \n",
       "3  2023-01-01         '최악 2022' 넘긴 美증시, 새해 상반기 더 나쁠 수 있지만…[월가시각]   \n",
       "4  2023-01-02      [마켓뷰] 새해 첫 거래 코스피·코스닥 모두 하락…외국인·기관 순매도에 약세 전환   \n",
       "\n",
       "                                                  본문  \\\n",
       "0  \\n\\t\\t\\t\\t\\t\\t\\t\\t\\t\\t1월 첫주 증시는 연말 증시 부진을 만회할 ...   \n",
       "1  \\n\\t\\t\\t\\t\\t\\t\\t\\t\\t\\t막주 국내 증시 인플레 부담·긴축·배당락에 ...   \n",
       "2  \\n\\t\\t\\t\\t\\t\\t\\t\\t\\t\\t경기침체 우려에 1월효과 '중립' 무게장단기...   \n",
       "3  \\n\\t\\t\\t\\t\\t\\t\\t\\t\\t\\t['상저하고' 전망이 대세… 관건은 경기침체...   \n",
       "4  \\n\\t\\t\\t\\t\\t\\t\\t\\t\\t\\t시총 상위 종목 10개는 모두 상승  현대·...   \n",
       "\n",
       "                                                  링크  \n",
       "0  /news/news_read.naver?article_id=0004949843&of...  \n",
       "1  /news/news_read.naver?article_id=0005397624&of...  \n",
       "2  /news/news_read.naver?article_id=0005397588&of...  \n",
       "3  /news/news_read.naver?article_id=0004835033&of...  \n",
       "4  /news/news_read.naver?article_id=0000866844&of...  "
      ]
     },
     "execution_count": 5,
     "metadata": {},
     "output_type": "execute_result"
    }
   ],
   "source": [
    "df = pd.read_excel(io = 'Stock_News_202301.xlsx')\n",
    "\n",
    "df.head()"
   ]
  },
  {
   "cell_type": "code",
   "execution_count": 6,
   "metadata": {},
   "outputs": [
    {
     "name": "stdout",
     "output_type": "stream",
     "text": [
      "<class 'pandas.core.frame.DataFrame'>\n",
      "RangeIndex: 257 entries, 0 to 256\n",
      "Data columns (total 4 columns):\n",
      " #   Column  Non-Null Count  Dtype \n",
      "---  ------  --------------  ----- \n",
      " 0   일자      257 non-null    object\n",
      " 1   제목      257 non-null    object\n",
      " 2   본문      257 non-null    object\n",
      " 3   링크      257 non-null    object\n",
      "dtypes: object(4)\n",
      "memory usage: 8.2+ KB\n"
     ]
    }
   ],
   "source": [
    "df.info()"
   ]
  },
  {
   "cell_type": "code",
   "execution_count": 7,
   "metadata": {},
   "outputs": [],
   "source": [
    "sens = df['제목']"
   ]
  },
  {
   "cell_type": "code",
   "execution_count": 8,
   "metadata": {},
   "outputs": [
    {
     "data": {
      "text/plain": [
       "0    침체 우려 속 ‘1월 효과’ 기대... 美 금리 방향성 가장 큰 변수 [주간 증시 전망]\n",
       "1                     [펀드와치]급락장에 웃은 코스닥 인버스…\"1월 효과 주목\"\n",
       "2                          [주간증시전망]1월효과에 쏠리는 눈…종목장세 전망\n",
       "3           '최악 2022' 넘긴 美증시, 새해 상반기 더 나쁠 수 있지만…[월가시각]\n",
       "4        [마켓뷰] 새해 첫 거래 코스피·코스닥 모두 하락…외국인·기관 순매도에 약세 전환\n",
       "Name: 제목, dtype: object"
      ]
     },
     "execution_count": 8,
     "metadata": {},
     "output_type": "execute_result"
    }
   ],
   "source": [
    "sens.head()"
   ]
  },
  {
   "cell_type": "markdown",
   "metadata": {},
   "source": [
    "### 텍스트 전처리\n",
    "1. 알파벳 소문자를 대문자로 변경\n",
    "2. 홈페이지, 날짜, 전화번호, 이메일 패턴 등을 추출하거나 삭제\n",
    "3. 한글 자음과 모음을 삭제\n",
    "4. 불필요한 기호 및 띄어쓰기 삭제 (오타자 형태소 분석 과정에서 처리)"
   ]
  },
  {
   "cell_type": "code",
   "execution_count": 9,
   "metadata": {},
   "outputs": [],
   "source": [
    "strs = pd.Series(data = ['abcd', 'ABCD', '1234', '가나다라', 'ㅋㅎㅜㅠ',',:%#'])"
   ]
  },
  {
   "cell_type": "code",
   "execution_count": 10,
   "metadata": {},
   "outputs": [
    {
     "data": {
      "text/plain": [
       "0    abcd\n",
       "1    ABCD\n",
       "2    1234\n",
       "3    가나다라\n",
       "4    ㅋㅎㅜㅠ\n",
       "5    ,:%#\n",
       "dtype: object"
      ]
     },
     "execution_count": 10,
     "metadata": {},
     "output_type": "execute_result"
    }
   ],
   "source": [
    "strs"
   ]
  },
  {
   "cell_type": "code",
   "execution_count": 11,
   "metadata": {},
   "outputs": [
    {
     "data": {
      "text/html": [
       "<div>\n",
       "<style scoped>\n",
       "    .dataframe tbody tr th:only-of-type {\n",
       "        vertical-align: middle;\n",
       "    }\n",
       "\n",
       "    .dataframe tbody tr th {\n",
       "        vertical-align: top;\n",
       "    }\n",
       "\n",
       "    .dataframe thead th {\n",
       "        text-align: right;\n",
       "    }\n",
       "</style>\n",
       "<table border=\"1\" class=\"dataframe\">\n",
       "  <thead>\n",
       "    <tr style=\"text-align: right;\">\n",
       "      <th></th>\n",
       "      <th></th>\n",
       "      <th>0</th>\n",
       "    </tr>\n",
       "    <tr>\n",
       "      <th></th>\n",
       "      <th>match</th>\n",
       "      <th></th>\n",
       "    </tr>\n",
       "  </thead>\n",
       "  <tbody>\n",
       "    <tr>\n",
       "      <th rowspan=\"4\" valign=\"top\">4</th>\n",
       "      <th>0</th>\n",
       "      <td>ㅋ</td>\n",
       "    </tr>\n",
       "    <tr>\n",
       "      <th>1</th>\n",
       "      <td>ㅎ</td>\n",
       "    </tr>\n",
       "    <tr>\n",
       "      <th>2</th>\n",
       "      <td>ㅜ</td>\n",
       "    </tr>\n",
       "    <tr>\n",
       "      <th>3</th>\n",
       "      <td>ㅠ</td>\n",
       "    </tr>\n",
       "    <tr>\n",
       "      <th rowspan=\"4\" valign=\"top\">5</th>\n",
       "      <th>0</th>\n",
       "      <td>,</td>\n",
       "    </tr>\n",
       "    <tr>\n",
       "      <th>1</th>\n",
       "      <td>:</td>\n",
       "    </tr>\n",
       "    <tr>\n",
       "      <th>2</th>\n",
       "      <td>%</td>\n",
       "    </tr>\n",
       "    <tr>\n",
       "      <th>3</th>\n",
       "      <td>#</td>\n",
       "    </tr>\n",
       "  </tbody>\n",
       "</table>\n",
       "</div>"
      ],
      "text/plain": [
       "         0\n",
       "  match   \n",
       "4 0      ㅋ\n",
       "  1      ㅎ\n",
       "  2      ㅜ\n",
       "  3      ㅠ\n",
       "5 0      ,\n",
       "  1      :\n",
       "  2      %\n",
       "  3      #"
      ]
     },
     "execution_count": 11,
     "metadata": {},
     "output_type": "execute_result"
    }
   ],
   "source": [
    "# 불필요한 한글 자음 모음과 특수문자 제외\n",
    "strs.str.extractall(pat = '([^a-zA-Z0-9가-힣])')"
   ]
  },
  {
   "cell_type": "code",
   "execution_count": 12,
   "metadata": {},
   "outputs": [
    {
     "data": {
      "text/plain": [
       "0    침체 우려 속 ‘1월 효과’ 기대... 美 금리 방향성 가장 큰 변수 [주간 증시 전망]\n",
       "1                     [펀드와치]급락장에 웃은 코스닥 인버스…\"1월 효과 주목\"\n",
       "2                          [주간증시전망]1월효과에 쏠리는 눈…종목장세 전망\n",
       "3           '최악 2022' 넘긴 美증시, 새해 상반기 더 나쁠 수 있지만…[월가시각]\n",
       "4        [마켓뷰] 새해 첫 거래 코스피·코스닥 모두 하락…외국인·기관 순매도에 약세 전환\n",
       "Name: 제목, dtype: object"
      ]
     },
     "execution_count": 12,
     "metadata": {},
     "output_type": "execute_result"
    }
   ],
   "source": [
    "sens.head()"
   ]
  },
  {
   "cell_type": "code",
   "execution_count": 13,
   "metadata": {},
   "outputs": [
    {
     "data": {
      "text/html": [
       "<div>\n",
       "<style scoped>\n",
       "    .dataframe tbody tr th:only-of-type {\n",
       "        vertical-align: middle;\n",
       "    }\n",
       "\n",
       "    .dataframe tbody tr th {\n",
       "        vertical-align: top;\n",
       "    }\n",
       "\n",
       "    .dataframe thead th {\n",
       "        text-align: right;\n",
       "    }\n",
       "</style>\n",
       "<table border=\"1\" class=\"dataframe\">\n",
       "  <thead>\n",
       "    <tr style=\"text-align: right;\">\n",
       "      <th></th>\n",
       "      <th></th>\n",
       "      <th>0</th>\n",
       "    </tr>\n",
       "    <tr>\n",
       "      <th></th>\n",
       "      <th>match</th>\n",
       "      <th></th>\n",
       "    </tr>\n",
       "  </thead>\n",
       "  <tbody>\n",
       "    <tr>\n",
       "      <th>0</th>\n",
       "      <th>0</th>\n",
       "      <td>美</td>\n",
       "    </tr>\n",
       "    <tr>\n",
       "      <th>3</th>\n",
       "      <th>0</th>\n",
       "      <td>美</td>\n",
       "    </tr>\n",
       "    <tr>\n",
       "      <th rowspan=\"3\" valign=\"top\">9</th>\n",
       "      <th>0</th>\n",
       "      <td>韓</td>\n",
       "    </tr>\n",
       "    <tr>\n",
       "      <th>1</th>\n",
       "      <td>日</td>\n",
       "    </tr>\n",
       "    <tr>\n",
       "      <th>2</th>\n",
       "      <td>中</td>\n",
       "    </tr>\n",
       "    <tr>\n",
       "      <th>...</th>\n",
       "      <th>...</th>\n",
       "      <td>...</td>\n",
       "    </tr>\n",
       "    <tr>\n",
       "      <th>247</th>\n",
       "      <th>0</th>\n",
       "      <td>中</td>\n",
       "    </tr>\n",
       "    <tr>\n",
       "      <th>248</th>\n",
       "      <th>0</th>\n",
       "      <td>美</td>\n",
       "    </tr>\n",
       "    <tr>\n",
       "      <th rowspan=\"2\" valign=\"top\">251</th>\n",
       "      <th>0</th>\n",
       "      <td>三</td>\n",
       "    </tr>\n",
       "    <tr>\n",
       "      <th>1</th>\n",
       "      <td>電</td>\n",
       "    </tr>\n",
       "    <tr>\n",
       "      <th>255</th>\n",
       "      <th>0</th>\n",
       "      <td>美</td>\n",
       "    </tr>\n",
       "  </tbody>\n",
       "</table>\n",
       "<p>132 rows × 1 columns</p>\n",
       "</div>"
      ],
      "text/plain": [
       "           0\n",
       "    match   \n",
       "0   0      美\n",
       "3   0      美\n",
       "9   0      韓\n",
       "    1      日\n",
       "    2      中\n",
       "...       ..\n",
       "247 0      中\n",
       "248 0      美\n",
       "251 0      三\n",
       "    1      電\n",
       "255 0      美\n",
       "\n",
       "[132 rows x 1 columns]"
      ]
     },
     "execution_count": 13,
     "metadata": {},
     "output_type": "execute_result"
    }
   ],
   "source": [
    "# 한자만 검색(한 일 - 부를 유)\n",
    "sens.str.extractall(pat = '([一-龥])')"
   ]
  },
  {
   "cell_type": "code",
   "execution_count": 14,
   "metadata": {},
   "outputs": [
    {
     "data": {
      "text/plain": [
       "0\n",
       "美    58\n",
       "中    23\n",
       "日    18\n",
       "英     8\n",
       "株     7\n",
       "獨     5\n",
       "外     2\n",
       "人     2\n",
       "三     2\n",
       "電     2\n",
       "韓     1\n",
       "發     1\n",
       "弗     1\n",
       "尹     1\n",
       "訴     1\n",
       "Name: count, dtype: int64"
      ]
     },
     "execution_count": 14,
     "metadata": {},
     "output_type": "execute_result"
    }
   ],
   "source": [
    "# transfer Series & value count\n",
    "sens.str.extractall(pat = '([一-龥])')[0].value_counts()"
   ]
  },
  {
   "cell_type": "code",
   "execution_count": 15,
   "metadata": {},
   "outputs": [
    {
     "data": {
      "text/plain": [
       "0      침체 우려 속 ‘1월 효과’ 기대... 미국 금리 방향성 가장 큰 변수 [주간 증시...\n",
       "1                       [펀드와치]급락장에 웃은 코스닥 인버스…\"1월 효과 주목\"\n",
       "2                            [주간증시전망]1월효과에 쏠리는 눈…종목장세 전망\n",
       "3            '최악 2022' 넘긴 미국증시, 새해 상반기 더 나쁠 수 있지만…[월가시각]\n",
       "4          [마켓뷰] 새해 첫 거래 코스피·코스닥 모두 하락…외국인·기관 순매도에 약세 전환\n",
       "                             ...                        \n",
       "252                         [코스닥 마감]외국인 매수에 소폭 상승…0.25%↑\n",
       "253                     [Asia오전] 연준 발표를 기다려볼까? 방향감 잃은 증시\n",
       "254             FOMC 목전 '위험선호 위축'…환율 1230원대 상향 시도[외환브리핑]\n",
       "255          FOMC 앞둔 미국증시 하락…삼성전자 '반도체 감산' 여부 주목 [모닝브리핑]\n",
       "256             달리던 나스닥, 연준 눈치에 급락…'전기차 인하' 포드 뚝↓ [뉴욕마감]\n",
       "Name: 제목, Length: 257, dtype: object"
      ]
     },
     "execution_count": 15,
     "metadata": {},
     "output_type": "execute_result"
    }
   ],
   "source": [
    "sens.str.replace(pat = '美', repl = '미국')"
   ]
  },
  {
   "cell_type": "code",
   "execution_count": 16,
   "metadata": {},
   "outputs": [
    {
     "data": {
      "text/plain": [
       "0    침체 우려 속 ‘1월 효과’ 기대... 美 금리 방향성 가장 큰 변수 [주간 증시 전망]\n",
       "1                     [펀드와치]급락장에 웃은 코스닥 인버스…\"1월 효과 주목\"\n",
       "2                          [주간증시전망]1월효과에 쏠리는 눈…종목장세 전망\n",
       "3           '최악 2022' 넘긴 美증시, 새해 상반기 더 나쁠 수 있지만…[월가시각]\n",
       "4        [마켓뷰] 새해 첫 거래 코스피·코스닥 모두 하락…외국인·기관 순매도에 약세 전환\n",
       "Name: 제목, dtype: object"
      ]
     },
     "execution_count": 16,
     "metadata": {},
     "output_type": "execute_result"
    }
   ],
   "source": [
    "sens.head()"
   ]
  },
  {
   "cell_type": "code",
   "execution_count": 17,
   "metadata": {},
   "outputs": [
    {
     "data": {
      "text/plain": [
       "0          침체우려속1월효과기대금리방향성가장큰변수주간증시전망\n",
       "1               펀드와치급락장에웃은코스닥인버스1월효과주목\n",
       "2                주간증시전망1월효과에쏠리는눈종목장세전망\n",
       "3           최악2022넘긴증시새해상반기더나쁠수있지만월가시각\n",
       "4      마켓뷰새해첫거래코스피코스닥모두하락외국인기관순매도에약세전환\n",
       "                    ...               \n",
       "252                 코스닥마감외국인매수에소폭상승025\n",
       "253            Asia오전연준발표를기다려볼까방향감잃은증시\n",
       "254      FOMC목전위험선호위축환율1230원대상향시도외환브리핑\n",
       "255       FOMC앞둔증시하락삼성전자반도체감산여부주목모닝브리핑\n",
       "256          달리던나스닥연준눈치에급락전기차인하포드뚝뉴욕마감\n",
       "Name: 제목, Length: 257, dtype: object"
      ]
     },
     "execution_count": 17,
     "metadata": {},
     "output_type": "execute_result"
    }
   ],
   "source": [
    "sens = sens.str.replace(pat = '([^a-zA-Z0-9가-힣])', repl='', regex=True)\n",
    "sens"
   ]
  },
  {
   "cell_type": "markdown",
   "metadata": {},
   "source": [
    "### 형태소 분석"
   ]
  },
  {
   "cell_type": "code",
   "execution_count": 18,
   "metadata": {},
   "outputs": [],
   "source": [
    "sen = '복리후생으로워라밸부터챙기잨ㅋㅋㅋ'"
   ]
  },
  {
   "cell_type": "code",
   "execution_count": 19,
   "metadata": {},
   "outputs": [
    {
     "data": {
      "text/plain": [
       "[Token(form='복리', tag='NNG', start=0, len=2),\n",
       " Token(form='후생', tag='NNG', start=2, len=2),\n",
       " Token(form='으로', tag='JKB', start=4, len=2),\n",
       " Token(form='워라밸', tag='NNG', start=6, len=3),\n",
       " Token(form='부터', tag='JX', start=9, len=2),\n",
       " Token(form='챙기', tag='VV', start=11, len=2),\n",
       " Token(form='자', tag='EC', start=13, len=1),\n",
       " Token(form='ᆿ', tag='Z_CODA', start=13, len=1),\n",
       " Token(form='ㅋㅋㅋ', tag='SW', start=14, len=3)]"
      ]
     },
     "execution_count": 19,
     "metadata": {},
     "output_type": "execute_result"
    }
   ],
   "source": [
    "# 한글 형태소 분석기 설정\n",
    "kiwi = Kiwi()\n",
    "\n",
    "# 형태소 분석\n",
    "kiwi.tokenize(text = sen)"
   ]
  },
  {
   "cell_type": "markdown",
   "metadata": {},
   "source": [
    "### 불용어 삭제"
   ]
  },
  {
   "cell_type": "code",
   "execution_count": 20,
   "metadata": {},
   "outputs": [
    {
     "data": {
      "text/plain": [
       "{('ᆫ', 'ETM'),\n",
       " ('ᆫ', 'JX'),\n",
       " ('ᆫ다', 'EF'),\n",
       " ('ᆯ', 'ETM'),\n",
       " ('가', 'JKS'),\n",
       " ('같', 'VA'),\n",
       " ('것', 'NNB'),\n",
       " ('게', 'EC'),\n",
       " ('겠', 'EP'),\n",
       " ('고', 'EC'),\n",
       " ('고', 'JKQ'),\n",
       " ('과', 'JC'),\n",
       " ('과', 'JKB'),\n",
       " ('그', 'MM'),\n",
       " ('그', 'NP'),\n",
       " ('기', 'ETN'),\n",
       " ('까지', 'JX'),\n",
       " ('나', 'NP'),\n",
       " ('년', 'NNB'),\n",
       " ('는', 'ETM'),\n",
       " ('는', 'JX'),\n",
       " ('다', 'EC'),\n",
       " ('다', 'EF'),\n",
       " ('다고', 'EC'),\n",
       " ('다는', 'ETM'),\n",
       " ('대하', 'VV'),\n",
       " ('더', 'MAG'),\n",
       " ('던', 'ETM'),\n",
       " ('도', 'JX'),\n",
       " ('되', 'VV'),\n",
       " ('되', 'XSV'),\n",
       " ('들', 'XSN'),\n",
       " ('등', 'NNB'),\n",
       " ('따르', 'VV'),\n",
       " ('때', 'NNG'),\n",
       " ('때문', 'NNB'),\n",
       " ('라', 'EC'),\n",
       " ('라는', 'ETM'),\n",
       " ('로', 'JKB'),\n",
       " ('를', 'JKO'),\n",
       " ('만', 'JX'),\n",
       " ('만', 'NR'),\n",
       " ('말', 'NNG'),\n",
       " ('며', 'EC'),\n",
       " ('면', 'EC'),\n",
       " ('면서', 'EC'),\n",
       " ('명', 'NNB'),\n",
       " ('받', 'VV'),\n",
       " ('보', 'VV'),\n",
       " ('부터', 'JX'),\n",
       " ('사람', 'NNG'),\n",
       " ('성', 'XSN'),\n",
       " ('수', 'NNB'),\n",
       " ('아니', 'VCN'),\n",
       " ('않', 'VX'),\n",
       " ('어', 'EC'),\n",
       " ('어', 'EF'),\n",
       " ('어서', 'EC'),\n",
       " ('어야', 'EC'),\n",
       " ('없', 'VA'),\n",
       " ('었', 'EP'),\n",
       " ('에', 'JKB'),\n",
       " ('에게', 'JKB'),\n",
       " ('에서', 'JKB'),\n",
       " ('와', 'JC'),\n",
       " ('와', 'JKB'),\n",
       " ('우리', 'NP'),\n",
       " ('원', 'NNB'),\n",
       " ('월', 'NNB'),\n",
       " ('위하', 'VV'),\n",
       " ('으로', 'JKB'),\n",
       " ('은', 'ETM'),\n",
       " ('은', 'JX'),\n",
       " ('을', 'ETM'),\n",
       " ('을', 'JKO'),\n",
       " ('의', 'JKG'),\n",
       " ('이', 'JKC'),\n",
       " ('이', 'JKS'),\n",
       " ('이', 'MM'),\n",
       " ('이', 'NP'),\n",
       " ('이', 'VCP'),\n",
       " ('일', 'NNB'),\n",
       " ('일', 'NNG'),\n",
       " ('있', 'VV'),\n",
       " ('있', 'VX'),\n",
       " ('적', 'XSN'),\n",
       " ('제', 'XPN'),\n",
       " ('주', 'VX'),\n",
       " ('중', 'NNB'),\n",
       " ('지', 'EC'),\n",
       " ('지', 'VX'),\n",
       " ('지만', 'EC'),\n",
       " ('지역', 'NNG'),\n",
       " ('통하', 'VV'),\n",
       " ('하', 'VV'),\n",
       " ('하', 'VX'),\n",
       " ('하', 'XSA'),\n",
       " ('하', 'XSV'),\n",
       " ('한', 'MM'),\n",
       " ('화', 'XSN')}"
      ]
     },
     "execution_count": 20,
     "metadata": {},
     "output_type": "execute_result"
    }
   ],
   "source": [
    "# 내장 불용어 객체를 생성\n",
    "stopwords = Stopwords()\n",
    "\n",
    "# 내장 불용어 목록을 확인\n",
    "stopwords.stopwords\n"
   ]
  },
  {
   "cell_type": "code",
   "execution_count": 21,
   "metadata": {},
   "outputs": [
    {
     "data": {
      "text/plain": [
       "[Token(form='복리', tag='NNG', start=0, len=2),\n",
       " Token(form='후생', tag='NNG', start=2, len=2),\n",
       " Token(form='워라밸', tag='NNG', start=6, len=3),\n",
       " Token(form='챙기', tag='VV', start=11, len=2),\n",
       " Token(form='자', tag='EC', start=13, len=1),\n",
       " Token(form='ᆿ', tag='Z_CODA', start=13, len=1)]"
      ]
     },
     "execution_count": 21,
     "metadata": {},
     "output_type": "execute_result"
    }
   ],
   "source": [
    "# 형태소 분석 결과에서 불용어를 제거\n",
    "kiwi.tokenize(text = sen, stopwords = stopwords)"
   ]
  },
  {
   "cell_type": "code",
   "execution_count": 22,
   "metadata": {},
   "outputs": [
    {
     "data": {
      "text/plain": [
       "True"
      ]
     },
     "execution_count": 22,
     "metadata": {},
     "output_type": "execute_result"
    }
   ],
   "source": [
    "# 사용자 사전에 특정 단어 추가\n",
    "kiwi.add_user_word(word='복리후생', tag = 'NNG', score=15)"
   ]
  },
  {
   "cell_type": "code",
   "execution_count": 23,
   "metadata": {},
   "outputs": [],
   "source": [
    "# 형태소 분석 결과에서 불용어를 제거\n",
    "tokens = kiwi.tokenize(text = sen, stopwords = stopwords)"
   ]
  },
  {
   "cell_type": "markdown",
   "metadata": {},
   "source": [
    "### 형태소 분석 결과 확인"
   ]
  },
  {
   "cell_type": "code",
   "execution_count": 24,
   "metadata": {},
   "outputs": [
    {
     "data": {
      "text/plain": [
       "Token(form='복리후생', tag='NNG', start=0, len=4)"
      ]
     },
     "execution_count": 24,
     "metadata": {},
     "output_type": "execute_result"
    }
   ],
   "source": [
    "# tokens(형태소 분석 결과)를 확인\n",
    "tokens[0]"
   ]
  },
  {
   "cell_type": "code",
   "execution_count": 25,
   "metadata": {},
   "outputs": [
    {
     "data": {
      "text/plain": [
       "'복리후생'"
      ]
     },
     "execution_count": 25,
     "metadata": {},
     "output_type": "execute_result"
    }
   ],
   "source": [
    "# 단어\n",
    "tokens[0].form"
   ]
  },
  {
   "cell_type": "code",
   "execution_count": 26,
   "metadata": {},
   "outputs": [
    {
     "data": {
      "text/plain": [
       "'NNG'"
      ]
     },
     "execution_count": 26,
     "metadata": {},
     "output_type": "execute_result"
    }
   ],
   "source": [
    "# 품사\n",
    "tokens[0].tag"
   ]
  },
  {
   "cell_type": "markdown",
   "metadata": {},
   "source": [
    "### 품사 선택"
   ]
  },
  {
   "cell_type": "code",
   "execution_count": 27,
   "metadata": {},
   "outputs": [],
   "source": [
    "# 텍스트 분석에 사용할 품사(용언과 체언) 목록을 리스트로 생성\n",
    "pos1, pos2 = ['VV', 'VA'], ['NNG', 'NNP']"
   ]
  },
  {
   "cell_type": "code",
   "execution_count": 28,
   "metadata": {},
   "outputs": [
    {
     "data": {
      "text/plain": [
       "['복리후생', '워라밸', '챙기다']"
      ]
     },
     "execution_count": 28,
     "metadata": {},
     "output_type": "execute_result"
    }
   ],
   "source": [
    "# 형태소의 품사가 용언과 체언인 형태소만 선택 후, 품사가 용언인 형태소에 종결어미 '다'를 결합하여 리스트로 반환\n",
    "tokens = [token.form + '다' if token.tag in pos1 else token.form for token in tokens if token.tag in pos1 + pos2]\n",
    "\n",
    "tokens"
   ]
  },
  {
   "cell_type": "markdown",
   "metadata": {},
   "source": [
    "### 말뭉치 생성"
   ]
  },
  {
   "cell_type": "code",
   "execution_count": 29,
   "metadata": {},
   "outputs": [],
   "source": [
    "# 말뭉치를 저장할 빈 리스트 생성\n",
    "corpus = list()"
   ]
  },
  {
   "cell_type": "code",
   "execution_count": 30,
   "metadata": {},
   "outputs": [],
   "source": [
    "for sen in sens:\n",
    "    tokens = kiwi.tokenize(text = sen, stopwords = stopwords)\n",
    "    tokens = [token.form + '다' if token.tag in pos1 else token.form for token in tokens if token.tag in pos1 + pos2]\n",
    "    corpus.append(tokens)"
   ]
  },
  {
   "cell_type": "code",
   "execution_count": 31,
   "metadata": {},
   "outputs": [
    {
     "data": {
      "text/plain": [
       "0    침체 우려 속 ‘1월 효과’ 기대... 美 금리 방향성 가장 큰 변수 [주간 증시 전망]\n",
       "1                     [펀드와치]급락장에 웃은 코스닥 인버스…\"1월 효과 주목\"\n",
       "2                          [주간증시전망]1월효과에 쏠리는 눈…종목장세 전망\n",
       "3           '최악 2022' 넘긴 美증시, 새해 상반기 더 나쁠 수 있지만…[월가시각]\n",
       "4        [마켓뷰] 새해 첫 거래 코스피·코스닥 모두 하락…외국인·기관 순매도에 약세 전환\n",
       "Name: 제목, dtype: object"
      ]
     },
     "execution_count": 31,
     "metadata": {},
     "output_type": "execute_result"
    }
   ],
   "source": [
    "df['제목'].head()"
   ]
  },
  {
   "cell_type": "markdown",
   "metadata": {},
   "source": [
    "#### 원본 문서와 형태소 분석 결과 비교"
   ]
  },
  {
   "cell_type": "code",
   "execution_count": 32,
   "metadata": {},
   "outputs": [
    {
     "data": {
      "text/plain": [
       "[['침체', '우려', '속', '효과기', '금리', '방향', '크다', '변수', '주간', '증시', '전망'],\n",
       " ['펀드', '치', '급락', '장', '코스닥', '버스', '효과', '주목'],\n",
       " ['주간', '증시', '전망', '효과', '쏠리다', '눈', '종목', '장세', '전망'],\n",
       " ['최악', '넘기다', '증시', '새해', '상반기', '나쁘다', '있다', '월', '시각'],\n",
       " ['마켓', '뷰', '새해', '거래', '코스피', '코스닥', '하락', '외국인', '기관', '순매도', '약세', '전환']]"
      ]
     },
     "execution_count": 32,
     "metadata": {},
     "output_type": "execute_result"
    }
   ],
   "source": [
    "corpus[0:5]"
   ]
  },
  {
   "cell_type": "code",
   "execution_count": 33,
   "metadata": {},
   "outputs": [],
   "source": [
    "# 사용자 사전에 추가할 단어 목록\n",
    "words = ['1월효과', '방향성', '펀드와치', '급락장', '인버스', '월가']\n",
    "\n",
    "# 사용자 사전에 단어 추가\n",
    "for word in words:\n",
    "    kiwi.add_user_word(word = word, tag = 'NNG', score=15)"
   ]
  },
  {
   "cell_type": "code",
   "execution_count": 34,
   "metadata": {},
   "outputs": [],
   "source": [
    "# 형태소 재분석 하기\n",
    "corpus = list()\n",
    "for sen in sens:\n",
    "    tokens = kiwi.tokenize(text = sen, stopwords = stopwords)\n",
    "    tokens = [token.form + '다' if token.tag in pos1 else token.form for token in tokens if token.tag in pos1 + pos2]\n",
    "    corpus.append(tokens)"
   ]
  },
  {
   "cell_type": "code",
   "execution_count": 35,
   "metadata": {},
   "outputs": [
    {
     "data": {
      "text/plain": [
       "[['침체', '우려', '속', '1월효과', '기대', '금리', '방향성', '크다', '변수', '주간', '증시', '전망'],\n",
       " ['펀드와치', '급락장', '코스닥', '인버스', '1월효과', '주목'],\n",
       " ['주간', '증시', '전망', '1월효과', '쏠리다', '눈', '종목', '장세', '전망'],\n",
       " ['최악', '넘기다', '증시', '새해', '상반기', '나쁘다', '있다', '월가', '시각'],\n",
       " ['마켓', '뷰', '새해', '거래', '코스피', '코스닥', '하락', '외국인', '기관', '순매도', '약세', '전환']]"
      ]
     },
     "execution_count": 35,
     "metadata": {},
     "output_type": "execute_result"
    }
   ],
   "source": [
    "corpus[0:5]"
   ]
  },
  {
   "cell_type": "markdown",
   "metadata": {},
   "source": [
    "### n-gram"
   ]
  },
  {
   "cell_type": "code",
   "execution_count": 36,
   "metadata": {},
   "outputs": [],
   "source": [
    "bigram = ngrams(sequence=corpus[0], n =2)"
   ]
  },
  {
   "cell_type": "code",
   "execution_count": 37,
   "metadata": {},
   "outputs": [
    {
     "data": {
      "text/plain": [
       "['침체', '우려', '속', '1월효과', '기대', '금리', '방향성', '크다', '변수', '주간', '증시', '전망']"
      ]
     },
     "execution_count": 37,
     "metadata": {},
     "output_type": "execute_result"
    }
   ],
   "source": [
    "corpus[0]"
   ]
  },
  {
   "cell_type": "code",
   "execution_count": 38,
   "metadata": {},
   "outputs": [
    {
     "data": {
      "text/plain": [
       "<zip at 0x17139d22200>"
      ]
     },
     "execution_count": 38,
     "metadata": {},
     "output_type": "execute_result"
    }
   ],
   "source": [
    "bigram"
   ]
  },
  {
   "cell_type": "code",
   "execution_count": 39,
   "metadata": {},
   "outputs": [
    {
     "data": {
      "text/plain": [
       "[('침체', '우려'),\n",
       " ('우려', '속'),\n",
       " ('속', '1월효과'),\n",
       " ('1월효과', '기대'),\n",
       " ('기대', '금리'),\n",
       " ('금리', '방향성'),\n",
       " ('방향성', '크다'),\n",
       " ('크다', '변수'),\n",
       " ('변수', '주간'),\n",
       " ('주간', '증시'),\n",
       " ('증시', '전망')]"
      ]
     },
     "execution_count": 39,
     "metadata": {},
     "output_type": "execute_result"
    }
   ],
   "source": [
    "list(bigram)"
   ]
  },
  {
   "cell_type": "markdown",
   "metadata": {},
   "source": [
    "### corpus로 bigrams 생성"
   ]
  },
  {
   "cell_type": "code",
   "execution_count": 40,
   "metadata": {},
   "outputs": [],
   "source": [
    "bigrams = list()"
   ]
  },
  {
   "cell_type": "code",
   "execution_count": 41,
   "metadata": {},
   "outputs": [
    {
     "data": {
      "text/plain": [
       "[('침체', '우려'),\n",
       " ('우려', '속'),\n",
       " ('속', '1월효과'),\n",
       " ('1월효과', '기대'),\n",
       " ('기대', '금리'),\n",
       " ('금리', '방향성'),\n",
       " ('방향성', '크다'),\n",
       " ('크다', '변수'),\n",
       " ('변수', '주간'),\n",
       " ('주간', '증시'),\n",
       " ('증시', '전망'),\n",
       " ('펀드와치', '급락장'),\n",
       " ('급락장', '코스닥'),\n",
       " ('코스닥', '인버스'),\n",
       " ('인버스', '1월효과'),\n",
       " ('1월효과', '주목'),\n",
       " ('주간', '증시'),\n",
       " ('증시', '전망'),\n",
       " ('전망', '1월효과'),\n",
       " ('1월효과', '쏠리다'),\n",
       " ('쏠리다', '눈'),\n",
       " ('눈', '종목'),\n",
       " ('종목', '장세'),\n",
       " ('장세', '전망'),\n",
       " ('최악', '넘기다'),\n",
       " ('넘기다', '증시'),\n",
       " ('증시', '새해'),\n",
       " ('새해', '상반기'),\n",
       " ('상반기', '나쁘다'),\n",
       " ('나쁘다', '있다'),\n",
       " ('있다', '월가'),\n",
       " ('월가', '시각'),\n",
       " ('마켓', '뷰'),\n",
       " ('뷰', '새해'),\n",
       " ('새해', '거래'),\n",
       " ('거래', '코스피'),\n",
       " ('코스피', '코스닥'),\n",
       " ('코스닥', '하락'),\n",
       " ('하락', '외국인'),\n",
       " ('외국인', '기관'),\n",
       " ('기관', '순매도'),\n",
       " ('순매도', '약세'),\n",
       " ('약세', '전환'),\n",
       " ('시황', '종합'),\n",
       " ('종합', '코스피'),\n",
       " ('코스피', '개장'),\n",
       " ('개장', '내리다'),\n",
       " ('마감', '시황'),\n",
       " ('시황', '코스피'),\n",
       " ('코스피', '새해'),\n",
       " ('새해', '첫날'),\n",
       " ('첫날', '기관'),\n",
       " ('기관', '매물'),\n",
       " ('새해', '첫날'),\n",
       " ('첫날', '환율'),\n",
       " ('환율', '저가'),\n",
       " ('저가', '매수'),\n",
       " ('매수', '원'),\n",
       " ('원', '거래일'),\n",
       " ('거래일', '상승'),\n",
       " ('상승', '외환'),\n",
       " ('외환', '마감'),\n",
       " ('코스닥', '마감'),\n",
       " ('마감', '하락'),\n",
       " ('하락', '전지'),\n",
       " ('전지', '주'),\n",
       " ('주', '주'),\n",
       " ('주', '강세'),\n",
       " ('시장', '열리다'),\n",
       " ('열리다', '아시아'),\n",
       " ('아시아', '증시'),\n",
       " ('증시', '휴'),\n",
       " ('휴', '장'),\n",
       " ('장', '오전'),\n",
       " ('굿모닝', '증시'),\n",
       " ('증시', '연초'),\n",
       " ('연초', '코스'),\n",
       " ('코스', '불확실'),\n",
       " ('불확실', '확대'),\n",
       " ('확대', '기업'),\n",
       " ('기업', '실적'),\n",
       " ('실적', '금리'),\n",
       " ('금리', '인상'),\n",
       " ('인상', '경계'),\n",
       " ('새해', '첫날'),\n",
       " ('첫날', '환율'),\n",
       " ('환율', '장'),\n",
       " ('장', '진입'),\n",
       " ('진입', '외환'),\n",
       " ('외환', '브리핑'),\n",
       " ('유럽', '개장'),\n",
       " ('개장', '장'),\n",
       " ('장', '초반'),\n",
       " ('초반', '상승세'),\n",
       " ('코로나', '정점'),\n",
       " ('정점', '조짐'),\n",
       " ('조짐', '새해'),\n",
       " ('새해', '거래일'),\n",
       " ('거래일', '중반'),\n",
       " ('중반', '마감'),\n",
       " ('마켓', '뷰'),\n",
       " ('뷰', '코스피'),\n",
       " ('코스피', '하락'),\n",
       " ('하락', '마감'),\n",
       " ('마감', '장'),\n",
       " ('장', '선'),\n",
       " ('선', '붕괴'),\n",
       " ('시황', '종합'),\n",
       " ('종합', '악몽'),\n",
       " ('악몽', '떠오르다'),\n",
       " ('떠오르다', '코스피'),\n",
       " ('코스피', '연속'),\n",
       " ('연속', '하락'),\n",
       " ('하락', '마감'),\n",
       " ('마감', '선'),\n",
       " ('마감', '시황'),\n",
       " ('시황', '코스피'),\n",
       " ('코스피', '기관'),\n",
       " ('기관', '매도'),\n",
       " ('매도', '선'),\n",
       " ('선', '마감'),\n",
       " ('롤러코스터', '장세'),\n",
       " ('장세', '환율'),\n",
       " ('환율', '하루'),\n",
       " ('하루', '하락'),\n",
       " ('하락', '외환'),\n",
       " ('외환', '마감'),\n",
       " ('코스닥', '마감'),\n",
       " ('마감', '롤러코스터'),\n",
       " ('롤러코스터', '끝'),\n",
       " ('끝', '강보합'),\n",
       " ('강보합', '거래일'),\n",
       " ('거래일', '상승'),\n",
       " ('경기', '침체'),\n",
       " ('침체', '코로나'),\n",
       " ('코로나', '공포'),\n",
       " ('공포', '여전'),\n",
       " ('여전', '새해'),\n",
       " ('새해', '거래'),\n",
       " ('거래', '약세'),\n",
       " ('약세', '시작'),\n",
       " ('시작', '오전'),\n",
       " ('예상', '강하다'),\n",
       " ('강하다', '달러'),\n",
       " ('달러', '매수'),\n",
       " ('매수', '세력'),\n",
       " ('세력', '공방전'),\n",
       " ('공방전', '외환'),\n",
       " ('외환', '브리핑'),\n",
       " ('월가', '올해'),\n",
       " ('올해', '미국'),\n",
       " ('미국', '경기'),\n",
       " ('경기', '침체'),\n",
       " ('침체', '출근길'),\n",
       " ('출근길', '영하'),\n",
       " ('영하', '강추위'),\n",
       " ('강추위', '모닝'),\n",
       " ('모닝', '브리핑'),\n",
       " ('유럽', '증시'),\n",
       " ('증시', '물가'),\n",
       " ('물가', '우려'),\n",
       " ('우려', '완화'),\n",
       " ('완화', '강세'),\n",
       " ('눈', '밖'),\n",
       " ('밖', '나다'),\n",
       " ('나다', '애'),\n",
       " ('애', '트다'),\n",
       " ('트다', '그룹'),\n",
       " ('그룹', '상장'),\n",
       " ('상장', '홍콩'),\n",
       " ('홍콩', '증시'),\n",
       " ('증시', '랠리'),\n",
       " ('랠리', '마감'),\n",
       " ('마켓', '뷰'),\n",
       " ('뷰', '코스피'),\n",
       " ('코스피', '외국인'),\n",
       " ('외국인', '매수'),\n",
       " ('매수', '상승'),\n",
       " ('상승', '선'),\n",
       " ('선', '회복'),\n",
       " ('마감', '시황'),\n",
       " ('시황', '코스'),\n",
       " ('코스', '피'),\n",
       " ('피', '닷새'),\n",
       " ('닷새', '선'),\n",
       " ('선', '반등'),\n",
       " ('반등', '삼성전자'),\n",
       " ('삼성전자', '넘다'),\n",
       " ('넘다', '급등'),\n",
       " ('급등', '종합'),\n",
       " ('위안화', '강세'),\n",
       " ('강세', '고'),\n",
       " ('고', '외국인'),\n",
       " ('외국인', '매수'),\n",
       " ('매수', '환율'),\n",
       " ('환율', '선'),\n",
       " ('선', '강보합'),\n",
       " ('강보합', '외환'),\n",
       " ('외환', '마감'),\n",
       " ('시황', '종합'),\n",
       " ('종합', '코스피'),\n",
       " ('코스피', '선'),\n",
       " ('선', '회복'),\n",
       " ('회복', '삼성전자'),\n",
       " ('삼성전자', '급'),\n",
       " ('엔화', '가치'),\n",
       " ('가치', '오르다'),\n",
       " ('오르다', '새해'),\n",
       " ('새해', '처음'),\n",
       " ('처음', '문'),\n",
       " ('문', '연'),\n",
       " ('연', '증시'),\n",
       " ('증시', '오전'),\n",
       " ('굿모닝', '증시'),\n",
       " ('증시', '테슬라'),\n",
       " ('테슬라', '애플'),\n",
       " ('애플', '급락'),\n",
       " ('급락', '코스'),\n",
       " ('코스', '피'),\n",
       " ('피', '소폭'),\n",
       " ('소폭', '하락'),\n",
       " ('하락', '출발'),\n",
       " ('출발', '예상'),\n",
       " ('침체', '공포감'),\n",
       " ('공포감', '달러'),\n",
       " ('달러', '강세'),\n",
       " ('강세', '전환'),\n",
       " ('전환', '환율'),\n",
       " ('환율', '테스트'),\n",
       " ('테스트', '외환'),\n",
       " ('외환', '브리핑'),\n",
       " ('새해', '첫날'),\n",
       " ('첫날', '증시'),\n",
       " ('증시', '상승'),\n",
       " ('상승', '불발'),\n",
       " ('불발', '테슬라'),\n",
       " ('테슬라', '뉴욕'),\n",
       " ('뉴욕', '마감'),\n",
       " ('마감', '종합'),\n",
       " ('찬바람', '불다'),\n",
       " ('불다', '강추위'),\n",
       " ('강추위', '애플'),\n",
       " ('애플', '시'),\n",
       " ('시', '붕괴'),\n",
       " ('붕괴', '테슬라'),\n",
       " ('테슬라', '모닝'),\n",
       " ('모닝', '브리핑'),\n",
       " ('새해', '거래일'),\n",
       " ('거래일', '증시'),\n",
       " ('증시', '하락'),\n",
       " ('하락', '테슬라'),\n",
       " ('테슬라', '급락'),\n",
       " ('급락', '뉴욕'),\n",
       " ('뉴욕', '마감'),\n",
       " ('첫날', '애플'),\n",
       " ('애플', '테슬라'),\n",
       " ('테슬라', '급락'),\n",
       " ('급락', '나스닥'),\n",
       " ('나스닥', '출발'),\n",
       " ('출발', '데일리'),\n",
       " ('데일리', '국제'),\n",
       " ('국제', '금융'),\n",
       " ('금융', '시장'),\n",
       " ('유럽', '개장'),\n",
       " ('개장', '장'),\n",
       " ('장', '초반'),\n",
       " ('초반', '혼'),\n",
       " ('혼', '조세'),\n",
       " ('국경', '개방'),\n",
       " ('개방', '당국'),\n",
       " ('당국', '부양'),\n",
       " ('부양', '의지'),\n",
       " ('의지', '증시'),\n",
       " ('증시', '대'),\n",
       " ('대', '마감'),\n",
       " ('마켓', '뷰'),\n",
       " ('뷰', '코스피'),\n",
       " ('코스피', '외인'),\n",
       " ('외인', '사자'),\n",
       " ('사자', '상승'),\n",
       " ('상승', '코스닥'),\n",
       " ('코스닥', '깨지다'),\n",
       " ('중국', '호재'),\n",
       " ('호재', '달러'),\n",
       " ('달러', '강세'),\n",
       " ('강세', '막히다'),\n",
       " ('막히다', '환율'),\n",
       " ('환율', '올해'),\n",
       " ('올해', '외환'),\n",
       " ('외환', '마감'),\n",
       " ('마감', '시황'),\n",
       " ('시황', '코스피'),\n",
       " ('코스피', '외국인'),\n",
       " ('외국인', '사자'),\n",
       " ('사자', '이틀'),\n",
       " ('이틀', '연속'),\n",
       " ('연속', '상승'),\n",
       " ('상승', '선'),\n",
       " ('선', '마감'),\n",
       " ('반등', '기다리다'),\n",
       " ('기다리다', '전기료'),\n",
       " ('전기료', '올리다'),\n",
       " ('올리다', '한전'),\n",
       " ('한전', '새해'),\n",
       " ('새해', '벽두'),\n",
       " ('벽두', '관심'),\n",
       " ('관심', '집중'),\n",
       " ('집중', '빅데이터'),\n",
       " ('빅데이터', '재테크'),\n",
       " ('시황', '종합'),\n",
       " ('종합', '매수'),\n",
       " ('매수', '코스피'),\n",
       " ('코스피', '이틀'),\n",
       " ('이틀', '연속'),\n",
       " ('연속', '오르다'),\n",
       " ('긴축', '공포'),\n",
       " ('공포', '지우다'),\n",
       " ('지우다', '유럽'),\n",
       " ('유럽', '호재'),\n",
       " ('호재', '닛케이'),\n",
       " ('닛케이', '오전'),\n",
       " ('굿모닝', '증시'),\n",
       " ('증시', '반도체'),\n",
       " ('반도체', '금융'),\n",
       " ('금융', '강세'),\n",
       " ('강세', '코스피'),\n",
       " ('코스피', '상승'),\n",
       " ('상승', '출발'),\n",
       " ('출발', '예상'),\n",
       " ('사록', '달러'),\n",
       " ('달러', '약보합'),\n",
       " ('약보합', '고용'),\n",
       " ('고용', '지표'),\n",
       " ('지표', '대기'),\n",
       " ('대기', '모드'),\n",
       " ('모드', '외환'),\n",
       " ('외환', '브리핑'),\n",
       " ('연준', '긴축'),\n",
       " ('긴축', '유지'),\n",
       " ('유지', '증시'),\n",
       " ('증시', '여행'),\n",
       " ('여행', '반도체'),\n",
       " ('반도체', '강세'),\n",
       " ('강세', '뉴욕'),\n",
       " ('뉴욕', '마감'),\n",
       " ('마감', '종합'),\n",
       " ('연준', '긴축'),\n",
       " ('긴축', '유지'),\n",
       " ('유지', '증시'),\n",
       " ('증시', '테슬라'),\n",
       " ('테슬라', '반'),\n",
       " ('반', '뉴욕'),\n",
       " ('뉴욕', '마감'),\n",
       " ('오늘', '중국'),\n",
       " ('중국', '항공편'),\n",
       " ('항공편', '음성'),\n",
       " ('음성', '확인서'),\n",
       " ('확인서', '필수'),\n",
       " ('필수', '뉴욕'),\n",
       " ('뉴욕', '증시'),\n",
       " ('증시', '새해'),\n",
       " ('새해', '상승'),\n",
       " ('상승', '마감'),\n",
       " ('마감', '모닝'),\n",
       " ('모닝', '브리핑'),\n",
       " ('구인', '건수'),\n",
       " ('건수', '미'),\n",
       " ('미', '증시'),\n",
       " ('증시', '혼'),\n",
       " ('혼', '조세'),\n",
       " ('조세', '출발'),\n",
       " ('출발', '데일리'),\n",
       " ('데일리', '국제'),\n",
       " ('국제', '금융'),\n",
       " ('금융', '시장'),\n",
       " ('유럽', '개장'),\n",
       " ('개장', '장'),\n",
       " ('장', '초반'),\n",
       " ('초반', '상승세'),\n",
       " ('상승세', '영국'),\n",
       " ('고용', '지표'),\n",
       " ('지표', '발표'),\n",
       " ('발표', '앞두다'),\n",
       " ('앞두다', '홍콩'),\n",
       " ('홍콩', '하락'),\n",
       " ('하락', '마감'),\n",
       " ('마켓뷰코스피1', '넘다'),\n",
       " ('넘다', '오르다'),\n",
       " ('오르다', '마감'),\n",
       " ('마감', '거래일'),\n",
       " ('거래일', '연속'),\n",
       " ('연속', '상승'),\n",
       " ('고용', '지표'),\n",
       " ('지표', '대기'),\n",
       " ('대기', '속'),\n",
       " ('속', '코스피'),\n",
       " ('코스피', '대'),\n",
       " ('대', '상승'),\n",
       " ('상승', '환율'),\n",
       " ('환율', '거래일'),\n",
       " ('거래일', '연속'),\n",
       " ('연속', '외환'),\n",
       " ('외환', '마감'),\n",
       " ('마감', '시황'),\n",
       " ('시황', '코스피'),\n",
       " ('코스피', '기관'),\n",
       " ('기관', '외인'),\n",
       " ('외인', '매수'),\n",
       " ('매수', '목'),\n",
       " ('목', '전서'),\n",
       " ('전서', '마감'),\n",
       " ('시황', '종합'),\n",
       " ('종합', '기관'),\n",
       " ('기관', '외인'),\n",
       " ('외인', '매수'),\n",
       " ('매수', '코스피'),\n",
       " ('코스피', '사흘'),\n",
       " ('사흘', '연속'),\n",
       " ('연속', '오르다'),\n",
       " ('홍콩', '왕래'),\n",
       " ('왕래', '재개'),\n",
       " ('재개', '기대'),\n",
       " ('기대', '항'),\n",
       " ('항', '셍'),\n",
       " ('셍', '하락'),\n",
       " ('하락', '전환'),\n",
       " ('전환', '오전'),\n",
       " ('오전', '시황'),\n",
       " ('시황', '어닝'),\n",
       " ('어닝', '쇼크'),\n",
       " ('쇼크', '코스피'),\n",
       " ('코스피', '선'),\n",
       " ('선', '탈환'),\n",
       " ('고용', '지표'),\n",
       " ('지표', '호조'),\n",
       " ('호조', '경계'),\n",
       " ('경계', '감'),\n",
       " ('감', '환율'),\n",
       " ('환율', '진입'),\n",
       " ('진입', '외환'),\n",
       " ('외환', '브리핑'),\n",
       " ('노동', '시장'),\n",
       " ('시장', '강세'),\n",
       " ('강세', '증시'),\n",
       " ('증시', '악재'),\n",
       " ('악재', '긴축'),\n",
       " ('긴축', '우려'),\n",
       " ('우려', '뉴욕'),\n",
       " ('뉴욕', '마감'),\n",
       " ('마감', '종합'),\n",
       " ('뉴욕', '증시'),\n",
       " ('증시', '긴축'),\n",
       " ('긴축', '우려'),\n",
       " ('우려', '하락'),\n",
       " ('하락', '하원'),\n",
       " ('하원', '공전'),\n",
       " ('공전', '장기'),\n",
       " ('장기', '모닝'),\n",
       " ('모닝', '브리핑'),\n",
       " ('고용', '시장'),\n",
       " ('시장', '긴축'),\n",
       " ('긴축', '공포'),\n",
       " ('공포', '나스닥'),\n",
       " ('나스닥', '데일리'),\n",
       " ('데일리', '국제'),\n",
       " ('국제', '금융'),\n",
       " ('금융', '시장'),\n",
       " ('노동', '시장'),\n",
       " ('시장', '긴축'),\n",
       " ('긴축', '우려'),\n",
       " ('우려', '증시'),\n",
       " ('증시', '하락'),\n",
       " ('하락', '뉴욕'),\n",
       " ('뉴욕', '마감'),\n",
       " ('금리', '인상'),\n",
       " ('인상', '약발'),\n",
       " ('약발', '기대감'),\n",
       " ('기대감', '증시'),\n",
       " ('증시', '뉴욕'),\n",
       " ('뉴욕', '마감'),\n",
       " ('고용', '시장'),\n",
       " ('시장', '임금'),\n",
       " ('임금', '상승세'),\n",
       " ('상승세', '둔화'),\n",
       " ('둔화', '다우'),\n",
       " ('다우', '데일리'),\n",
       " ('데일리', '국제'),\n",
       " ('국제', '금융'),\n",
       " ('금융', '시장'),\n",
       " ('배당', '락'),\n",
       " ('락', '이전'),\n",
       " ('이전', '수준'),\n",
       " ('수준', '회복'),\n",
       " ('회복', '기대감'),\n",
       " ('기대감', '기업'),\n",
       " ('기업', '실적'),\n",
       " ('실적', '결과'),\n",
       " ('결과', '최대'),\n",
       " ('최대', '변수'),\n",
       " ('변수', '주간'),\n",
       " ('주간', '증시'),\n",
       " ('증시', '전망'),\n",
       " ('이번', '주'),\n",
       " ('주', '증시'),\n",
       " ('증시', '계속'),\n",
       " ('계속', '박스'),\n",
       " ('박스', '속'),\n",
       " ('속', '관심'),\n",
       " ('관심', '섹터'),\n",
       " ('배당', '늘리다'),\n",
       " ('늘리다', '기대감'),\n",
       " ('기대감', '은행'),\n",
       " ('은행', '주'),\n",
       " ('주', '펀드와치'),\n",
       " ('주간', '증시'),\n",
       " ('증시', '전망'),\n",
       " ('전망', '막'),\n",
       " ('막', '오르다'),\n",
       " ('오르다', '어닝'),\n",
       " ('어닝', '시즌'),\n",
       " ('시즌', '박스'),\n",
       " ('박스', '개별'),\n",
       " ('개별', '대응'),\n",
       " ('이번', '주'),\n",
       " ('주', '증시'),\n",
       " ('증시', '인플레'),\n",
       " ('인플레', '뉴스'),\n",
       " ('뉴스', '좌우'),\n",
       " ('좌우', '변동'),\n",
       " ('변동', '크다'),\n",
       " ('크다', '월가'),\n",
       " ('월가', '시각'),\n",
       " ('유럽', '개장'),\n",
       " ('개장', '장'),\n",
       " ('장', '초반'),\n",
       " ('초반', '상승세'),\n",
       " ('인터넷', '기업'),\n",
       " ('기업', '봄날'),\n",
       " ('봄날', '오다'),\n",
       " ('오다', '홍콩'),\n",
       " ('홍콩', '급등'),\n",
       " ('급등', '마감'),\n",
       " ('마켓', '뷰'),\n",
       " ('뷰', '코스피'),\n",
       " ('코스피', '상승'),\n",
       " ('상승', '선'),\n",
       " ('선', '마감'),\n",
       " ('마감', '시황'),\n",
       " ('시황', '코스피'),\n",
       " ('코스피', '외인'),\n",
       " ('외인', '기관'),\n",
       " ('기관', '동반'),\n",
       " ('동반', '매수'),\n",
       " ('매수', '대'),\n",
       " ('대', '상승'),\n",
       " ('상승', '선'),\n",
       " ('선', '마감'),\n",
       " ('누', '그러다'),\n",
       " ('그러다', '긴축'),\n",
       " ('긴축', '공포'),\n",
       " ('공포', '환율'),\n",
       " ('환율', '진입'),\n",
       " ('진입', '외환'),\n",
       " ('외환', '마감'),\n",
       " ('시황', '종합'),\n",
       " ('종합', '긴축'),\n",
       " ('긴축', '완화'),\n",
       " ('완화', '기대'),\n",
       " ('기대', '코스피'),\n",
       " ('코스피', '거래일'),\n",
       " ('거래일', '선'),\n",
       " ('선', '회복'),\n",
       " ('방향', '바뀌다'),\n",
       " ('바뀌다', '관광'),\n",
       " ('관광', '기술'),\n",
       " ('기술', '주'),\n",
       " ('주', '뛰다'),\n",
       " ('뛰다', '항'),\n",
       " ('항', '세다'),\n",
       " ('세다', '대'),\n",
       " ('대', '오전'),\n",
       " ('긴축', '공포'),\n",
       " ('공포', '누그러지다'),\n",
       " ('누그러지다', '환율'),\n",
       " ('환율', '테스트'),\n",
       " ('테스트', '외환'),\n",
       " ('외환', '브리핑'),\n",
       " ('유럽', '개장'),\n",
       " ('개장', '장'),\n",
       " ('장', '초반'),\n",
       " ('초반', '하락세'),\n",
       " ('하락세', '영국'),\n",
       " ('오르다', '내리다'),\n",
       " ('내리다', '엇갈리다'),\n",
       " ('엇갈리다', '흐름'),\n",
       " ('흐름', '마감'),\n",
       " ('마감', '시황'),\n",
       " ('시황', '코스피'),\n",
       " ('코스피', '파월'),\n",
       " ('파월', '의장'),\n",
       " ('의장', '연설'),\n",
       " ('연설', '앞두다'),\n",
       " ('앞두다', '보합'),\n",
       " ('보합', '마감'),\n",
       " ('중국', '악재'),\n",
       " ('악재', '터지다'),\n",
       " ('터지다', '위험'),\n",
       " ('위험', '선호'),\n",
       " ('선호', '심리'),\n",
       " ('심리', '약화'),\n",
       " ('약화', '환율'),\n",
       " ('환율', '상승'),\n",
       " ('상승', '외환'),\n",
       " ('외환', '마감'),\n",
       " ('시황', '종합'),\n",
       " ('종합', '코스피'),\n",
       " ('코스피', '경계'),\n",
       " ('경계', '심리'),\n",
       " ('심리', '유입'),\n",
       " ('유입', '오르다'),\n",
       " ('오르다', '마감'),\n",
       " ('마켓', '뷰'),\n",
       " ('뷰', '코스피'),\n",
       " ('코스피', '수혜주'),\n",
       " ('수혜주', '급락'),\n",
       " ('급락', '상승'),\n",
       " ('상승', '제한'),\n",
       " ('제한', '솔'),\n",
       " ('솔', '전지'),\n",
       " ('전지', '강세'),\n",
       " ('오전', '차익'),\n",
       " ('차익', '실현'),\n",
       " ('실현', '매물'),\n",
       " ('매물', '혼'),\n",
       " ('혼', '조'),\n",
       " ('긴축', '완화'),\n",
       " ('완화', '기대'),\n",
       " ('기대', '환율'),\n",
       " ('환율', '내친김'),\n",
       " ('내친김', '테스트'),\n",
       " ('테스트', '나다'),\n",
       " ('나다', '외환'),\n",
       " ('외환', '브리핑'),\n",
       " ('금리', '불안'),\n",
       " ('불안', '증시'),\n",
       " ('증시', '혼'),\n",
       " ('혼', '테슬라'),\n",
       " ('테슬라', '뉴욕'),\n",
       " ('뉴욕', '마감'),\n",
       " ('마감', '종합'),\n",
       " ('물가', '실적'),\n",
       " ('실적', '발표'),\n",
       " ('발표', '앞두다'),\n",
       " ('앞두다', '증시'),\n",
       " ('증시', '혼'),\n",
       " ('혼', '조'),\n",
       " ('조', '이재명'),\n",
       " ('이재명', '검찰'),\n",
       " ('검찰', '출석'),\n",
       " ('출석', '모닝'),\n",
       " ('모닝', '브리핑'),\n",
       " ('증시', '혼'),\n",
       " ('혼', '기술'),\n",
       " ('기술', '주'),\n",
       " ('주', '강세'),\n",
       " ('강세', '테슬라'),\n",
       " ('테슬라', '뉴욕'),\n",
       " ('뉴욕', '마감'),\n",
       " ('임금', '상승'),\n",
       " ('상승', '둔화'),\n",
       " ('둔화', '분위기'),\n",
       " ('분위기', '나스닥'),\n",
       " ('나스닥', '상승'),\n",
       " ('상승', '출발'),\n",
       " ('출발', '데일리'),\n",
       " ('데일리', '국제'),\n",
       " ('국제', '금융'),\n",
       " ('금융', '시장'),\n",
       " ('물가', '지표'),\n",
       " ('지표', '경계'),\n",
       " ('경계', '중반'),\n",
       " ('중반', '탐색'),\n",
       " ('탐색', '환율'),\n",
       " ('환율', '이틀'),\n",
       " ('이틀', '상승세'),\n",
       " ('상승세', '외환'),\n",
       " ('외환', '마감'),\n",
       " ('비자', '중단'),\n",
       " ('중단', '보복'),\n",
       " ('보복', '사라지다'),\n",
       " ('사라지다', '투'),\n",
       " ('투', '심상하다'),\n",
       " ('심상하다', '마감'),\n",
       " ('마켓', '뷰'),\n",
       " ('뷰', '코스피'),\n",
       " ('코스피', '기관'),\n",
       " ('기관', '외인'),\n",
       " ('외인', '매수세'),\n",
       " ('매수세', '선'),\n",
       " ('선', '승마'),\n",
       " ('승마', '감리'),\n",
       " ('감리', '오프닝'),\n",
       " ('오프닝', '반등'),\n",
       " ('마감', '시황'),\n",
       " ('시황', '발표'),\n",
       " ('발표', '앞두다'),\n",
       " ('앞두다', '경계'),\n",
       " ('경계', '코스피'),\n",
       " ('코스피', '선'),\n",
       " ('선', '마감'),\n",
       " ('시황', '종합'),\n",
       " ('종합', '코스피'),\n",
       " ('코스피', '인플레'),\n",
       " ('인플레', '완화'),\n",
       " ('완화', '기대감'),\n",
       " ('기대감', '상승'),\n",
       " ('상승', '선'),\n",
       " ('선', '마감'),\n",
       " ('오전', '입국'),\n",
       " ('입국', '규제'),\n",
       " ('규제', '보복'),\n",
       " ('보복', '나서다'),\n",
       " ('나서다', '투자자'),\n",
       " ('투자자', '경계'),\n",
       " ('굿모닝', '증시'),\n",
       " ('증시', '둔화'),\n",
       " ('둔화', '기대감'),\n",
       " ('기대감', '종목'),\n",
       " ('종목', '장세'),\n",
       " ('장세', '전망'),\n",
       " ('매파', '색'),\n",
       " ('색', '줄이다'),\n",
       " ('줄이다', '파월'),\n",
       " ('파월', '환율'),\n",
       " ('환율', '안팎'),\n",
       " ('안팎', '서'),\n",
       " ('서', '물가'),\n",
       " ('물가', '지표'),\n",
       " ('지표', '관망'),\n",
       " ('관망', '외환'),\n",
       " ('외환', '브리핑'),\n",
       " ('증시', '기대'),\n",
       " ('기대', '낙관'),\n",
       " ('낙관', '고개'),\n",
       " ('고개', '기술'),\n",
       " ('기술', '주'),\n",
       " ('주', '강세'),\n",
       " ('강세', '뉴욕'),\n",
       " ('뉴욕', '마감'),\n",
       " ('마감', '종합'),\n",
       " ('세계', '성장'),\n",
       " ('성장', '헤어질 결심'),\n",
       " ('헤어질 결심', '골든'),\n",
       " ('골든', '글로브'),\n",
       " ('글로브', '도전'),\n",
       " ('도전', '모닝'),\n",
       " ('모닝', '브리핑'),\n",
       " ('침체', '우려'),\n",
       " ('우려', '떨치다'),\n",
       " ('떨치다', '낙관'),\n",
       " ('낙관', '고개'),\n",
       " ('고개', '나스닥'),\n",
       " ('나스닥', '상승'),\n",
       " ('상승', '뉴욕'),\n",
       " ('뉴욕', '마감'),\n",
       " ('유럽', '개장'),\n",
       " ('개장', '장'),\n",
       " ('장', '초반'),\n",
       " ('초반', '상승세'),\n",
       " ('상승세', '프랑스'),\n",
       " ('앞두다', '관망'),\n",
       " ('관망', '강보합'),\n",
       " ('강보합', '마감'),\n",
       " ('마켓뷰코스피', '거래일'),\n",
       " ('거래일', '연속'),\n",
       " ('연속', '상승'),\n",
       " ('상승', '선'),\n",
       " ('선', '마감'),\n",
       " ('물가', '지표'),\n",
       " ('지표', '대기'),\n",
       " ('대기', '환율'),\n",
       " ('환율', '중반'),\n",
       " ('중반', '약보합'),\n",
       " ('약보합', '외환'),\n",
       " ('외환', '마감'),\n",
       " ('시황', '종합'),\n",
       " ('종합', '코스피'),\n",
       " ('코스피', '발표'),\n",
       " ('발표', '기대감'),\n",
       " ('기대감', '외인'),\n",
       " ('외인', '매수'),\n",
       " ('매수', '속'),\n",
       " ('속', '오르다'),\n",
       " ('오르다', '마감'),\n",
       " ('마감', '시황'),\n",
       " ('시황', '코스피'),\n",
       " ('코스피', '앞두다'),\n",
       " ('앞두다', '선'),\n",
       " ('선', '회복'),\n",
       " ('실적', '바닥'),\n",
       " ('바닥', '찍다'),\n",
       " ('찍다', '반등'),\n",
       " ('반등', '보고서'),\n",
       " ('보고서', '삼성전자'),\n",
       " ('삼성전자', '빅데이터'),\n",
       " ('빅데이터', '재테크'),\n",
       " ('오전', '보합'),\n",
       " ('보합', '움직임'),\n",
       " ('움직임', '속'),\n",
       " ('속', '홍콩'),\n",
       " ('물가', '지표'),\n",
       " ('지표', '관망'),\n",
       " ('관망', '환율'),\n",
       " ('환율', '등락'),\n",
       " ('등락', '외환'),\n",
       " ('외환', '브리핑'),\n",
       " ('좋다', '인플레'),\n",
       " ('인플레', '지표'),\n",
       " ('지표', '기술'),\n",
       " ('기술', '주'),\n",
       " ('주', '오르다'),\n",
       " ('오르다', '뉴욕'),\n",
       " ('뉴욕', '마감'),\n",
       " ('마감', '종합'),\n",
       " ('뉴욕', '증시'),\n",
       " ('증시', '발표'),\n",
       " ('발표', '앞두다'),\n",
       " ('앞두다', '상승'),\n",
       " ('상승', '전산'),\n",
       " ('전산', '오류'),\n",
       " ('오류', '항공'),\n",
       " ('항공', '운항'),\n",
       " ('운항', '스톱'),\n",
       " ('스톱', '모닝'),\n",
       " ('모닝', '브리핑'),\n",
       " ('인플레', '잡히다'),\n",
       " ('잡히다', '기대감'),\n",
       " ('기대감', '증시'),\n",
       " ('증시', '기술'),\n",
       " ('기술', '주'),\n",
       " ('주', '강세'),\n",
       " ('강세', '뉴욕'),\n",
       " ('뉴욕', '마감'),\n",
       " ('기대', '지속'),\n",
       " ('지속', '나스닥'),\n",
       " ('나스닥', '상승'),\n",
       " ('상승', '출발'),\n",
       " ('출발', '데일리'),\n",
       " ('데일리', '국제'),\n",
       " ('국제', '금융'),\n",
       " ('금융', '시장'),\n",
       " ('유럽', '개장'),\n",
       " ('개장', '장'),\n",
       " ('장', '초반'),\n",
       " ('초반', '상승세'),\n",
       " ('마켓', '뷰'),\n",
       " ('뷰', '인플레이션'),\n",
       " ('인플레이션', '둔화'),\n",
       " ('둔화', '안도'),\n",
       " ('안도', '코스피'),\n",
       " ('코스피', '선'),\n",
       " ('선', '상승'),\n",
       " ('상승', '마감'),\n",
       " ('마감', '엔고'),\n",
       " ('엔고', '발목'),\n",
       " ('발목', '잡히다'),\n",
       " ('잡히다', '증시'),\n",
       " ('증시', '닛케이'),\n",
       " ('마감', '시황'),\n",
       " ('시황', '코스피'),\n",
       " ('코스피', '물가'),\n",
       " ('물가', '상승'),\n",
       " ('상승', '둔화'),\n",
       " ('둔화', '상승'),\n",
       " ('상승', '선'),\n",
       " ('선', '마감'),\n",
       " ('시황', '종합'),\n",
       " ('종합', '코스'),\n",
       " ('코스', '피'),\n",
       " ('피', '물가'),\n",
       " ('물가', '안정'),\n",
       " ('안정', '기대감'),\n",
       " ('기대감', '선'),\n",
       " ('선', '회복'),\n",
       " ('물가', '안도'),\n",
       " ('안도', '외국인'),\n",
       " ('외국인', '매수'),\n",
       " ('매수', '환율'),\n",
       " ('환율', '이틀'),\n",
       " ('이틀', '하락'),\n",
       " ('하락', '외환'),\n",
       " ('외환', '마감'),\n",
       " ('오전', '훈풍'),\n",
       " ('훈풍', '엔고'),\n",
       " ('엔고', '하락'),\n",
       " ('굿모닝', '증시'),\n",
       " ('증시', '둔화'),\n",
       " ('둔화', '증시'),\n",
       " ('증시', '상승'),\n",
       " ('상승', '국내'),\n",
       " ('국내', '오름세'),\n",
       " ('오름세', '전망'),\n",
       " ('물가', '진입'),\n",
       " ('진입', '달러'),\n",
       " ('달러', '인덱스'),\n",
       " ('인덱스', '선'),\n",
       " ('선', '외환'),\n",
       " ('외환', '브리핑'),\n",
       " ('인플레', '잡히다'),\n",
       " ('잡히다', '증시'),\n",
       " ('증시', '항공'),\n",
       " ('항공', '주'),\n",
       " ('주', '뉴욕'),\n",
       " ('뉴욕', '마감'),\n",
       " ('마감', '종합'),\n",
       " ('뉴욕', '증시'),\n",
       " ('증시', '상승세'),\n",
       " ('상승세', '꺾이다'),\n",
       " ('꺾이다', '물가'),\n",
       " ('물가', '오름세'),\n",
       " ('오름세', '올해'),\n",
       " ('올해', '금통위'),\n",
       " ('금통위', '모닝'),\n",
       " ('모닝', '브리핑'),\n",
       " ('인플레', '둔화'),\n",
       " ('둔화', '안'),\n",
       " ('안', '속'),\n",
       " ('속', '증시'),\n",
       " ('증시', '나스닥'),\n",
       " ('나스닥', '뉴욕'),\n",
       " ('뉴욕', '마감'),\n",
       " ('약하다', '침체'),\n",
       " ('침체', '괜찮다'),\n",
       " ('괜찮다', '투자'),\n",
       " ('투자', '심리'),\n",
       " ('심리', '호전'),\n",
       " ('호전', '증시'),\n",
       " ('증시', '뉴욕'),\n",
       " ('뉴욕', '마감'),\n",
       " ('JP모건', '침체'),\n",
       " ('침체', '중심'),\n",
       " ('중심', '전망'),\n",
       " ('전망', '나스닥'),\n",
       " ('나스닥', '하락'),\n",
       " ('하락', '출발'),\n",
       " ('출발', '데일리'),\n",
       " ('데일리', '국제'),\n",
       " ('국제', '금융'),\n",
       " ('금융', '시장'),\n",
       " ('물가', '안'),\n",
       " ('안', '경고'),\n",
       " ('경고', '혼재'),\n",
       " ('혼재', '방향성'),\n",
       " ('방향성', '박스'),\n",
       " ('박스', '장세'),\n",
       " ('장세', '지속'),\n",
       " ('지속', '주간'),\n",
       " ('주간', '증시'),\n",
       " ('증시', '전망'),\n",
       " ('이번', '주'),\n",
       " ('주', '증시'),\n",
       " ('증시', '실적'),\n",
       " ('실적', '발표'),\n",
       " ('발표', '앞두다'),\n",
       " ('앞두다', '코스피'),\n",
       " ('코스피', '개별'),\n",
       " ('개별', '테마'),\n",
       " ('테마', '종목'),\n",
       " ('종목', '장세'),\n",
       " ('장세', '전망'),\n",
       " ('펀드와치', '날아오르다'),\n",
       " ('날아오르다', '전지'),\n",
       " ('전지', '불확실'),\n",
       " ('불확실', '요인'),\n",
       " ('요인', '유의'),\n",
       " ('주간', '증시'),\n",
       " ('증시', '전망'),\n",
       " ('전망', '앞두다'),\n",
       " ('앞두다', '경계'),\n",
       " ('경계', '감'),\n",
       " ('감', '방향성'),\n",
       " ('방향성', '종목'),\n",
       " ('종목', '장세'),\n",
       " ('약하다', '경기'),\n",
       " ('경기', '침체'),\n",
       " ('침체', '오다'),\n",
       " ('오다', '기업'),\n",
       " ('기업', '실적'),\n",
       " ('실적', '나빠지다'),\n",
       " ('나빠지다', '월가'),\n",
       " ('월가', '시각'),\n",
       " ('유럽', '개장'),\n",
       " ('개장', '장'),\n",
       " ('장', '초반'),\n",
       " ('초반', '상승세'),\n",
       " ('마감', '엔고'),\n",
       " ('엔고', '증시'),\n",
       " ('증시', '닛케이'),\n",
       " ('회의', '앞두다'),\n",
       " ('앞두다', '환율'),\n",
       " ...]"
      ]
     },
     "execution_count": 41,
     "metadata": {},
     "output_type": "execute_result"
    }
   ],
   "source": [
    "for i in range(len(corpus)):\n",
    "    bigram = ngrams(sequence=corpus[i], n=2)\n",
    "    bigrams += list(bigram)\n",
    "\n",
    "bigrams"
   ]
  },
  {
   "cell_type": "code",
   "execution_count": 42,
   "metadata": {},
   "outputs": [
    {
     "data": {
      "text/plain": [
       "1885"
      ]
     },
     "execution_count": 42,
     "metadata": {},
     "output_type": "execute_result"
    }
   ],
   "source": [
    "len(bigrams)"
   ]
  },
  {
   "cell_type": "code",
   "execution_count": 43,
   "metadata": {},
   "outputs": [],
   "source": [
    "bigrams = pd.Series(data = bigrams)"
   ]
  },
  {
   "cell_type": "code",
   "execution_count": 44,
   "metadata": {},
   "outputs": [
    {
     "data": {
      "text/plain": [
       "(뉴욕, 마감)     30\n",
       "(외환, 마감)     20\n",
       "(외환, 브리핑)    20\n",
       "(시황, 종합)     20\n",
       "(마감, 시황)     19\n",
       "             ..\n",
       "(물가, 실적)      1\n",
       "(조, 이재명)      1\n",
       "(이재명, 검찰)     1\n",
       "(검찰, 출석)      1\n",
       "(포드, 뉴욕)      1\n",
       "Name: count, Length: 1190, dtype: int64"
      ]
     },
     "execution_count": 44,
     "metadata": {},
     "output_type": "execute_result"
    }
   ],
   "source": [
    "bigrams.value_counts()"
   ]
  },
  {
   "cell_type": "code",
   "execution_count": 45,
   "metadata": {},
   "outputs": [
    {
     "data": {
      "text/plain": [
       "0        (침체, 우려)\n",
       "1         (우려, 속)\n",
       "2       (속, 1월효과)\n",
       "3      (1월효과, 기대)\n",
       "4        (기대, 금리)\n",
       "5       (금리, 방향성)\n",
       "6       (방향성, 크다)\n",
       "7        (크다, 변수)\n",
       "8        (변수, 주간)\n",
       "9        (주간, 증시)\n",
       "10       (증시, 전망)\n",
       "11    (펀드와치, 급락장)\n",
       "12     (급락장, 코스닥)\n",
       "13     (코스닥, 인버스)\n",
       "14    (인버스, 1월효과)\n",
       "15     (1월효과, 주목)\n",
       "16       (주간, 증시)\n",
       "17       (증시, 전망)\n",
       "18     (전망, 1월효과)\n",
       "19    (1월효과, 쏠리다)\n",
       "20       (쏠리다, 눈)\n",
       "21        (눈, 종목)\n",
       "22       (종목, 장세)\n",
       "23       (장세, 전망)\n",
       "24      (최악, 넘기다)\n",
       "25      (넘기다, 증시)\n",
       "26       (증시, 새해)\n",
       "27      (새해, 상반기)\n",
       "28     (상반기, 나쁘다)\n",
       "29      (나쁘다, 있다)\n",
       "dtype: object"
      ]
     },
     "execution_count": 45,
     "metadata": {},
     "output_type": "execute_result"
    }
   ],
   "source": [
    "# 한단어로 만들 수 있는 단어 조합을 찾는 Tip\n",
    "bigrams.head(n=30)"
   ]
  },
  {
   "cell_type": "code",
   "execution_count": 47,
   "metadata": {},
   "outputs": [],
   "source": [
    "# 사용자 사전에 추가할 단어 목록\n",
    "words = ['마켓뷰', '뉴욕증시']\n",
    "\n",
    "# 사용자 사전에 단어 추가\n",
    "for word in words:\n",
    "    kiwi.add_user_word(word = word, tag = 'NNG', score=15)"
   ]
  },
  {
   "cell_type": "code",
   "execution_count": null,
   "metadata": {},
   "outputs": [],
   "source": []
  }
 ],
 "metadata": {
  "kernelspec": {
   "display_name": "DataAnalysisProcess",
   "language": "python",
   "name": "python3"
  },
  "language_info": {
   "codemirror_mode": {
    "name": "ipython",
    "version": 3
   },
   "file_extension": ".py",
   "mimetype": "text/x-python",
   "name": "python",
   "nbconvert_exporter": "python",
   "pygments_lexer": "ipython3",
   "version": "3.11.8"
  }
 },
 "nbformat": 4,
 "nbformat_minor": 2
}
