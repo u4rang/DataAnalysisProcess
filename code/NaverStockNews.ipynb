{
 "cells": [
  {
   "cell_type": "markdown",
   "metadata": {},
   "source": []
  },
  {
   "cell_type": "markdown",
   "metadata": {},
   "source": [
    "# Naver Stock News\n",
    " - https://finance.naver.com/news/mainnews.naver"
   ]
  },
  {
   "cell_type": "code",
   "execution_count": 1,
   "metadata": {},
   "outputs": [],
   "source": [
    "import requests\n",
    "\n",
    "from bs4 import BeautifulSoup as bts\n",
    "\n",
    "from datetime import datetime"
   ]
  },
  {
   "cell_type": "code",
   "execution_count": 2,
   "metadata": {},
   "outputs": [],
   "source": [
    "url = f'https://finance.naver.com/news/mainnews.naver'\n",
    "\n",
    "# 현재 날짜를 \"YYYY-MM-DD\" 형식으로 포맷팅\n",
    "today = datetime.now().strftime('%Y-%m-%d')\n",
    "\n",
    "page = 1\n",
    "\n",
    "query = {\n",
    "    'date': today,\n",
    "    'page': page \n",
    "}"
   ]
  },
  {
   "cell_type": "code",
   "execution_count": 3,
   "metadata": {},
   "outputs": [],
   "source": [
    "res = requests.get(url = url, params=query)"
   ]
  },
  {
   "cell_type": "code",
   "execution_count": 4,
   "metadata": {},
   "outputs": [
    {
     "data": {
      "text/plain": [
       "200"
      ]
     },
     "execution_count": 4,
     "metadata": {},
     "output_type": "execute_result"
    }
   ],
   "source": [
    "res.status_code"
   ]
  },
  {
   "cell_type": "code",
   "execution_count": 5,
   "metadata": {},
   "outputs": [
    {
     "data": {
      "text/plain": [
       "'text/html;charset=EUC-KR'"
      ]
     },
     "execution_count": 5,
     "metadata": {},
     "output_type": "execute_result"
    }
   ],
   "source": [
    "res.headers['content-type']"
   ]
  },
  {
   "cell_type": "code",
   "execution_count": 6,
   "metadata": {},
   "outputs": [],
   "source": [
    "soup = bts(markup = res.text, features='html.parser')"
   ]
  },
  {
   "cell_type": "code",
   "execution_count": 7,
   "metadata": {},
   "outputs": [],
   "source": [
    "items = soup.select('.articleSubject > a')"
   ]
  },
  {
   "cell_type": "code",
   "execution_count": 15,
   "metadata": {},
   "outputs": [
    {
     "name": "stdout",
     "output_type": "stream",
     "text": [
      "{'title': \"폭락장에 '반대매매'까지…담보부족계좌 하루만에 3배로 급증\", 'link': '/news/news_read.naver?article_id=0014858129&office_id=001&mode=mainnews&type=&date=2024-08-06&page=1'}\n",
      "{'title': '루시드, 사우디 국부펀드로부터 또 자금수혈…유동성 우려↓(영상)', 'link': '/news/news_read.naver?article_id=0005806171&office_id=018&mode=mainnews&type=&date=2024-08-06&page=1'}\n",
      "{'title': '“리브랜딩으로 한화자산운용만의 생각·철학 담은 ETF 선보이겠다” [이코노 인터뷰]', 'link': '/news/news_read.naver?article_id=0000062882&office_id=243&mode=mainnews&type=&date=2024-08-06&page=1'}\n",
      "{'title': '스틱인베, 교환사채로 차바이오텍에 1500억 투자한다', 'link': '/news/news_read.naver?article_id=0001010175&office_id=366&mode=mainnews&type=&date=2024-08-06&page=1'}\n",
      "{'title': '“분산투자도 속절없이”···ETF 시총 하루만에 6兆 증발', 'link': '/news/news_read.naver?article_id=0005223974&office_id=014&mode=mainnews&type=&date=2024-08-06&page=1'}\n",
      "{'title': '혼돈의 韓 증시…개인투자자 성적표는? [엔터프라이스]', 'link': '/news/news_read.naver?article_id=0001174084&office_id=215&mode=mainnews&type=&date=2024-08-06&page=1'}\n",
      "{'title': '\" 주식 급락, 엔 캐리트레이드 청산이 핵심 요인\"-iM증권', 'link': '/news/news_read.naver?article_id=0005223962&office_id=014&mode=mainnews&type=&date=2024-08-06&page=1'}\n",
      "{'title': '“집 팔고 레버리지 당겨서 어떻게든 이번 하락장 먹어볼께요” [투자360]', 'link': '/news/news_read.naver?article_id=0002346119&office_id=016&mode=mainnews&type=&date=2024-08-06&page=1'}\n",
      "{'title': '완화된 위험회피 심리…환율, 장중 1360원 후반대로 하락[외환분석]', 'link': '/news/news_read.naver?article_id=0005806147&office_id=018&mode=mainnews&type=&date=2024-08-06&page=1'}\n",
      "{'title': 'ETF 시장 3위 불안한 KB운용…‘RISE’로 지켜낼까', 'link': '/news/news_read.naver?article_id=0000062879&office_id=243&mode=mainnews&type=&date=2024-08-06&page=1'}\n",
      "{'title': 'BOJ를 향한 동학개미의 울분…韓·日 증시 뒤흔든 ‘엔캐리트레이드’가 뭐길래 [투자360]', 'link': '/news/news_read.naver?article_id=0002346101&office_id=016&mode=mainnews&type=&date=2024-08-06&page=1'}\n",
      "{'title': '“경기침체 공포 과도했다”…亞 증시, 일제 상승', 'link': '/news/news_read.naver?article_id=0003229548&office_id=030&mode=mainnews&type=&date=2024-08-06&page=1'}\n",
      "{'title': '\"미국 금리 인하폭이 관건…침체 트리거 AI서 나올 수도\" [한경 재테크쇼]', 'link': '/news/news_read.naver?article_id=0005018646&office_id=015&mode=mainnews&type=&date=2024-08-06&page=1'}\n",
      "{'title': \"증시 대폭락에 '놀란' 개미들···증권사 수수료 수익 급감할까\", 'link': '/news/news_read.naver?article_id=0000310914&office_id=629&mode=mainnews&type=&date=2024-08-06&page=1'}\n",
      "{'title': '롤러코스터 장세..저가 분할 매수 전략에 주목해야', 'link': '/news/news_read.naver?article_id=0005223890&office_id=014&mode=mainnews&type=&date=2024-08-06&page=1'}\n",
      "{'title': \"'증시 대폭락' 외국인 투자자, 500억 매수한 종목… 키워드 OOO\", 'link': '/news/news_read.naver?article_id=0001019111&office_id=417&mode=mainnews&type=&date=2024-08-06&page=1'}\n",
      "{'title': '냉온탕 증시… “기술적 반등” vs “추가 하락” 예측불허', 'link': '/news/news_read.naver?article_id=0002652772&office_id=021&mode=mainnews&type=&date=2024-08-06&page=1'}\n",
      "{'title': '\"폭락장 \\'공포\\'를 산 강심장만 승자\"…증시 널뛰기에 웃고 우는 개미들', 'link': '/news/news_read.naver?article_id=0007713262&office_id=421&mode=mainnews&type=&date=2024-08-06&page=1'}\n",
      "{'title': '\"지옥에서 천당으로\"...코스피 하루만에 급반등 [오한마]', 'link': '/news/news_read.naver?article_id=0001174063&office_id=215&mode=mainnews&type=&date=2024-08-06&page=1'}\n",
      "{'title': '韓·日·대만 亞증시 일제히 반등', 'link': '/news/news_read.naver?article_id=0002346031&office_id=016&mode=mainnews&type=&date=2024-08-06&page=1'}\n"
     ]
    }
   ],
   "source": [
    "results = []\n",
    "\n",
    "for item in items:\n",
    "    title = item.text.strip()\n",
    "    link = item['href']\n",
    "    results.append({'title': title, 'link': link})\n",
    "\n",
    "for result in results:\n",
    "    print(result)"
   ]
  },
  {
   "cell_type": "code",
   "execution_count": 9,
   "metadata": {},
   "outputs": [],
   "source": [
    "class my_bts(bts):\n",
    "    def html_text(self, css):\n",
    "        items = self.select(css)\n",
    "        return [item.text for item in items]\n",
    "    \n",
    "    def html_attr(self, css, key):\n",
    "        items = self.select(css)\n",
    "        return [item[key] for item in items]\n",
    "    \n",
    "soup2 = my_bts(markup=res.text, features=\"html.parser\")"
   ]
  },
  {
   "cell_type": "code",
   "execution_count": 10,
   "metadata": {},
   "outputs": [
    {
     "data": {
      "text/plain": [
       "[\"폭락장에 '반대매매'까지…담보부족계좌 하루만에 3배로 급증\",\n",
       " '루시드, 사우디 국부펀드로부터 또 자금수혈…유동성 우려↓(영상)',\n",
       " '“리브랜딩으로 한화자산운용만의 생각·철학 담은 ETF 선보이겠다” [이코노 인터뷰]',\n",
       " '스틱인베, 교환사채로 차바이오텍에 1500억 투자한다',\n",
       " '“분산투자도 속절없이”···ETF 시총 하루만에 6兆 증발',\n",
       " '혼돈의 韓 증시…개인투자자 성적표는? [엔터프라이스]',\n",
       " '\" 주식 급락, 엔 캐리트레이드 청산이 핵심 요인\"-iM증권',\n",
       " '“집 팔고 레버리지 당겨서 어떻게든 이번 하락장 먹어볼께요” [투자360]',\n",
       " '완화된 위험회피 심리…환율, 장중 1360원 후반대로 하락[외환분석]',\n",
       " 'ETF 시장 3위 불안한 KB운용…‘RISE’로 지켜낼까',\n",
       " 'BOJ를 향한 동학개미의 울분…韓·日 증시 뒤흔든 ‘엔캐리트레이드’가 뭐길래 [투자360]',\n",
       " '“경기침체 공포 과도했다”…亞 증시, 일제 상승',\n",
       " '\"미국 금리 인하폭이 관건…침체 트리거 AI서 나올 수도\" [한경 재테크쇼]',\n",
       " \"증시 대폭락에 '놀란' 개미들···증권사 수수료 수익 급감할까\",\n",
       " '롤러코스터 장세..저가 분할 매수 전략에 주목해야',\n",
       " \"'증시 대폭락' 외국인 투자자, 500억 매수한 종목… 키워드 OOO\",\n",
       " '냉온탕 증시… “기술적 반등” vs “추가 하락” 예측불허',\n",
       " '\"폭락장 \\'공포\\'를 산 강심장만 승자\"…증시 널뛰기에 웃고 우는 개미들',\n",
       " '\"지옥에서 천당으로\"...코스피 하루만에 급반등 [오한마]',\n",
       " '韓·日·대만 亞증시 일제히 반등']"
      ]
     },
     "execution_count": 10,
     "metadata": {},
     "output_type": "execute_result"
    }
   ],
   "source": [
    "soup2.html_text(css = '.articleSubject > a')"
   ]
  },
  {
   "cell_type": "code",
   "execution_count": 11,
   "metadata": {},
   "outputs": [
    {
     "data": {
      "text/plain": [
       "['/news/news_read.naver?article_id=0014858129&office_id=001&mode=mainnews&type=&date=2024-08-06&page=1',\n",
       " '/news/news_read.naver?article_id=0005806171&office_id=018&mode=mainnews&type=&date=2024-08-06&page=1',\n",
       " '/news/news_read.naver?article_id=0000062882&office_id=243&mode=mainnews&type=&date=2024-08-06&page=1',\n",
       " '/news/news_read.naver?article_id=0001010175&office_id=366&mode=mainnews&type=&date=2024-08-06&page=1',\n",
       " '/news/news_read.naver?article_id=0005223974&office_id=014&mode=mainnews&type=&date=2024-08-06&page=1',\n",
       " '/news/news_read.naver?article_id=0001174084&office_id=215&mode=mainnews&type=&date=2024-08-06&page=1',\n",
       " '/news/news_read.naver?article_id=0005223962&office_id=014&mode=mainnews&type=&date=2024-08-06&page=1',\n",
       " '/news/news_read.naver?article_id=0002346119&office_id=016&mode=mainnews&type=&date=2024-08-06&page=1',\n",
       " '/news/news_read.naver?article_id=0005806147&office_id=018&mode=mainnews&type=&date=2024-08-06&page=1',\n",
       " '/news/news_read.naver?article_id=0000062879&office_id=243&mode=mainnews&type=&date=2024-08-06&page=1',\n",
       " '/news/news_read.naver?article_id=0002346101&office_id=016&mode=mainnews&type=&date=2024-08-06&page=1',\n",
       " '/news/news_read.naver?article_id=0003229548&office_id=030&mode=mainnews&type=&date=2024-08-06&page=1',\n",
       " '/news/news_read.naver?article_id=0005018646&office_id=015&mode=mainnews&type=&date=2024-08-06&page=1',\n",
       " '/news/news_read.naver?article_id=0000310914&office_id=629&mode=mainnews&type=&date=2024-08-06&page=1',\n",
       " '/news/news_read.naver?article_id=0005223890&office_id=014&mode=mainnews&type=&date=2024-08-06&page=1',\n",
       " '/news/news_read.naver?article_id=0001019111&office_id=417&mode=mainnews&type=&date=2024-08-06&page=1',\n",
       " '/news/news_read.naver?article_id=0002652772&office_id=021&mode=mainnews&type=&date=2024-08-06&page=1',\n",
       " '/news/news_read.naver?article_id=0007713262&office_id=421&mode=mainnews&type=&date=2024-08-06&page=1',\n",
       " '/news/news_read.naver?article_id=0001174063&office_id=215&mode=mainnews&type=&date=2024-08-06&page=1',\n",
       " '/news/news_read.naver?article_id=0002346031&office_id=016&mode=mainnews&type=&date=2024-08-06&page=1']"
      ]
     },
     "execution_count": 11,
     "metadata": {},
     "output_type": "execute_result"
    }
   ],
   "source": [
    "soup2.html_attr(css = '.articleSubject > a', key = 'href')"
   ]
  },
  {
   "cell_type": "code",
   "execution_count": 12,
   "metadata": {},
   "outputs": [
    {
     "data": {
      "text/plain": [
       "['2024-08-06 15:13:06',\n",
       " '2024-08-06 15:08:22',\n",
       " '2024-08-06 15:00:19',\n",
       " '2024-08-06 15:00:19',\n",
       " '2024-08-06 14:50:17',\n",
       " '2024-08-06 14:44:58',\n",
       " '2024-08-06 14:43:13',\n",
       " '2024-08-06 14:40:12',\n",
       " '2024-08-06 14:23:10',\n",
       " '2024-08-06 14:22:12',\n",
       " '2024-08-06 14:14:11',\n",
       " '2024-08-06 14:09:12',\n",
       " '2024-08-06 13:45:12',\n",
       " '2024-08-06 13:00:16',\n",
       " '2024-08-06 12:42:11',\n",
       " '2024-08-06 11:58:59',\n",
       " '2024-08-06 11:57:18',\n",
       " '2024-08-06 11:55:45',\n",
       " '2024-08-06 11:44:48',\n",
       " '2024-08-06 11:41:11']"
      ]
     },
     "execution_count": 12,
     "metadata": {},
     "output_type": "execute_result"
    }
   ],
   "source": [
    "soup2.html_text(css = '.articleSummary > span.wdate')"
   ]
  },
  {
   "cell_type": "code",
   "execution_count": 13,
   "metadata": {},
   "outputs": [],
   "source": [
    "import pandas as pd"
   ]
  },
  {
   "cell_type": "code",
   "execution_count": 14,
   "metadata": {},
   "outputs": [
    {
     "data": {
      "text/html": [
       "<div>\n",
       "<style scoped>\n",
       "    .dataframe tbody tr th:only-of-type {\n",
       "        vertical-align: middle;\n",
       "    }\n",
       "\n",
       "    .dataframe tbody tr th {\n",
       "        vertical-align: top;\n",
       "    }\n",
       "\n",
       "    .dataframe thead th {\n",
       "        text-align: right;\n",
       "    }\n",
       "</style>\n",
       "<table border=\"1\" class=\"dataframe\">\n",
       "  <thead>\n",
       "    <tr style=\"text-align: right;\">\n",
       "      <th></th>\n",
       "      <th>제목</th>\n",
       "      <th>링크</th>\n",
       "      <th>날짜</th>\n",
       "    </tr>\n",
       "  </thead>\n",
       "  <tbody>\n",
       "    <tr>\n",
       "      <th>0</th>\n",
       "      <td>폭락장에 '반대매매'까지…담보부족계좌 하루만에 3배로 급증</td>\n",
       "      <td>/news/news_read.naver?article_id=0014858129&amp;of...</td>\n",
       "      <td>2024-08-06 15:13:06</td>\n",
       "    </tr>\n",
       "    <tr>\n",
       "      <th>1</th>\n",
       "      <td>루시드, 사우디 국부펀드로부터 또 자금수혈…유동성 우려↓(영상)</td>\n",
       "      <td>/news/news_read.naver?article_id=0005806171&amp;of...</td>\n",
       "      <td>2024-08-06 15:08:22</td>\n",
       "    </tr>\n",
       "    <tr>\n",
       "      <th>2</th>\n",
       "      <td>“리브랜딩으로 한화자산운용만의 생각·철학 담은 ETF 선보이겠다” [이코노 인터뷰]</td>\n",
       "      <td>/news/news_read.naver?article_id=0000062882&amp;of...</td>\n",
       "      <td>2024-08-06 15:00:19</td>\n",
       "    </tr>\n",
       "    <tr>\n",
       "      <th>3</th>\n",
       "      <td>스틱인베, 교환사채로 차바이오텍에 1500억 투자한다</td>\n",
       "      <td>/news/news_read.naver?article_id=0001010175&amp;of...</td>\n",
       "      <td>2024-08-06 15:00:19</td>\n",
       "    </tr>\n",
       "    <tr>\n",
       "      <th>4</th>\n",
       "      <td>“분산투자도 속절없이”···ETF 시총 하루만에 6兆 증발</td>\n",
       "      <td>/news/news_read.naver?article_id=0005223974&amp;of...</td>\n",
       "      <td>2024-08-06 14:50:17</td>\n",
       "    </tr>\n",
       "    <tr>\n",
       "      <th>5</th>\n",
       "      <td>혼돈의 韓 증시…개인투자자 성적표는? [엔터프라이스]</td>\n",
       "      <td>/news/news_read.naver?article_id=0001174084&amp;of...</td>\n",
       "      <td>2024-08-06 14:44:58</td>\n",
       "    </tr>\n",
       "    <tr>\n",
       "      <th>6</th>\n",
       "      <td>\" 주식 급락, 엔 캐리트레이드 청산이 핵심 요인\"-iM증권</td>\n",
       "      <td>/news/news_read.naver?article_id=0005223962&amp;of...</td>\n",
       "      <td>2024-08-06 14:43:13</td>\n",
       "    </tr>\n",
       "    <tr>\n",
       "      <th>7</th>\n",
       "      <td>“집 팔고 레버리지 당겨서 어떻게든 이번 하락장 먹어볼께요” [투자360]</td>\n",
       "      <td>/news/news_read.naver?article_id=0002346119&amp;of...</td>\n",
       "      <td>2024-08-06 14:40:12</td>\n",
       "    </tr>\n",
       "    <tr>\n",
       "      <th>8</th>\n",
       "      <td>완화된 위험회피 심리…환율, 장중 1360원 후반대로 하락[외환분석]</td>\n",
       "      <td>/news/news_read.naver?article_id=0005806147&amp;of...</td>\n",
       "      <td>2024-08-06 14:23:10</td>\n",
       "    </tr>\n",
       "    <tr>\n",
       "      <th>9</th>\n",
       "      <td>ETF 시장 3위 불안한 KB운용…‘RISE’로 지켜낼까</td>\n",
       "      <td>/news/news_read.naver?article_id=0000062879&amp;of...</td>\n",
       "      <td>2024-08-06 14:22:12</td>\n",
       "    </tr>\n",
       "    <tr>\n",
       "      <th>10</th>\n",
       "      <td>BOJ를 향한 동학개미의 울분…韓·日 증시 뒤흔든 ‘엔캐리트레이드’가 뭐길래 [투자...</td>\n",
       "      <td>/news/news_read.naver?article_id=0002346101&amp;of...</td>\n",
       "      <td>2024-08-06 14:14:11</td>\n",
       "    </tr>\n",
       "    <tr>\n",
       "      <th>11</th>\n",
       "      <td>“경기침체 공포 과도했다”…亞 증시, 일제 상승</td>\n",
       "      <td>/news/news_read.naver?article_id=0003229548&amp;of...</td>\n",
       "      <td>2024-08-06 14:09:12</td>\n",
       "    </tr>\n",
       "    <tr>\n",
       "      <th>12</th>\n",
       "      <td>\"미국 금리 인하폭이 관건…침체 트리거 AI서 나올 수도\" [한경 재테크쇼]</td>\n",
       "      <td>/news/news_read.naver?article_id=0005018646&amp;of...</td>\n",
       "      <td>2024-08-06 13:45:12</td>\n",
       "    </tr>\n",
       "    <tr>\n",
       "      <th>13</th>\n",
       "      <td>증시 대폭락에 '놀란' 개미들···증권사 수수료 수익 급감할까</td>\n",
       "      <td>/news/news_read.naver?article_id=0000310914&amp;of...</td>\n",
       "      <td>2024-08-06 13:00:16</td>\n",
       "    </tr>\n",
       "    <tr>\n",
       "      <th>14</th>\n",
       "      <td>롤러코스터 장세..저가 분할 매수 전략에 주목해야</td>\n",
       "      <td>/news/news_read.naver?article_id=0005223890&amp;of...</td>\n",
       "      <td>2024-08-06 12:42:11</td>\n",
       "    </tr>\n",
       "    <tr>\n",
       "      <th>15</th>\n",
       "      <td>'증시 대폭락' 외국인 투자자, 500억 매수한 종목… 키워드 OOO</td>\n",
       "      <td>/news/news_read.naver?article_id=0001019111&amp;of...</td>\n",
       "      <td>2024-08-06 11:58:59</td>\n",
       "    </tr>\n",
       "    <tr>\n",
       "      <th>16</th>\n",
       "      <td>냉온탕 증시… “기술적 반등” vs “추가 하락” 예측불허</td>\n",
       "      <td>/news/news_read.naver?article_id=0002652772&amp;of...</td>\n",
       "      <td>2024-08-06 11:57:18</td>\n",
       "    </tr>\n",
       "    <tr>\n",
       "      <th>17</th>\n",
       "      <td>\"폭락장 '공포'를 산 강심장만 승자\"…증시 널뛰기에 웃고 우는 개미들</td>\n",
       "      <td>/news/news_read.naver?article_id=0007713262&amp;of...</td>\n",
       "      <td>2024-08-06 11:55:45</td>\n",
       "    </tr>\n",
       "    <tr>\n",
       "      <th>18</th>\n",
       "      <td>\"지옥에서 천당으로\"...코스피 하루만에 급반등 [오한마]</td>\n",
       "      <td>/news/news_read.naver?article_id=0001174063&amp;of...</td>\n",
       "      <td>2024-08-06 11:44:48</td>\n",
       "    </tr>\n",
       "    <tr>\n",
       "      <th>19</th>\n",
       "      <td>韓·日·대만 亞증시 일제히 반등</td>\n",
       "      <td>/news/news_read.naver?article_id=0002346031&amp;of...</td>\n",
       "      <td>2024-08-06 11:41:11</td>\n",
       "    </tr>\n",
       "  </tbody>\n",
       "</table>\n",
       "</div>"
      ],
      "text/plain": [
       "                                                   제목  \\\n",
       "0                    폭락장에 '반대매매'까지…담보부족계좌 하루만에 3배로 급증   \n",
       "1                 루시드, 사우디 국부펀드로부터 또 자금수혈…유동성 우려↓(영상)   \n",
       "2      “리브랜딩으로 한화자산운용만의 생각·철학 담은 ETF 선보이겠다” [이코노 인터뷰]   \n",
       "3                       스틱인베, 교환사채로 차바이오텍에 1500억 투자한다   \n",
       "4                    “분산투자도 속절없이”···ETF 시총 하루만에 6兆 증발   \n",
       "5                       혼돈의 韓 증시…개인투자자 성적표는? [엔터프라이스]   \n",
       "6                   \" 주식 급락, 엔 캐리트레이드 청산이 핵심 요인\"-iM증권   \n",
       "7           “집 팔고 레버리지 당겨서 어떻게든 이번 하락장 먹어볼께요” [투자360]   \n",
       "8              완화된 위험회피 심리…환율, 장중 1360원 후반대로 하락[외환분석]   \n",
       "9                     ETF 시장 3위 불안한 KB운용…‘RISE’로 지켜낼까   \n",
       "10  BOJ를 향한 동학개미의 울분…韓·日 증시 뒤흔든 ‘엔캐리트레이드’가 뭐길래 [투자...   \n",
       "11                         “경기침체 공포 과도했다”…亞 증시, 일제 상승   \n",
       "12         \"미국 금리 인하폭이 관건…침체 트리거 AI서 나올 수도\" [한경 재테크쇼]   \n",
       "13                 증시 대폭락에 '놀란' 개미들···증권사 수수료 수익 급감할까   \n",
       "14                        롤러코스터 장세..저가 분할 매수 전략에 주목해야   \n",
       "15             '증시 대폭락' 외국인 투자자, 500억 매수한 종목… 키워드 OOO   \n",
       "16                   냉온탕 증시… “기술적 반등” vs “추가 하락” 예측불허   \n",
       "17            \"폭락장 '공포'를 산 강심장만 승자\"…증시 널뛰기에 웃고 우는 개미들   \n",
       "18                   \"지옥에서 천당으로\"...코스피 하루만에 급반등 [오한마]   \n",
       "19                                  韓·日·대만 亞증시 일제히 반등   \n",
       "\n",
       "                                                   링크                   날짜  \n",
       "0   /news/news_read.naver?article_id=0014858129&of...  2024-08-06 15:13:06  \n",
       "1   /news/news_read.naver?article_id=0005806171&of...  2024-08-06 15:08:22  \n",
       "2   /news/news_read.naver?article_id=0000062882&of...  2024-08-06 15:00:19  \n",
       "3   /news/news_read.naver?article_id=0001010175&of...  2024-08-06 15:00:19  \n",
       "4   /news/news_read.naver?article_id=0005223974&of...  2024-08-06 14:50:17  \n",
       "5   /news/news_read.naver?article_id=0001174084&of...  2024-08-06 14:44:58  \n",
       "6   /news/news_read.naver?article_id=0005223962&of...  2024-08-06 14:43:13  \n",
       "7   /news/news_read.naver?article_id=0002346119&of...  2024-08-06 14:40:12  \n",
       "8   /news/news_read.naver?article_id=0005806147&of...  2024-08-06 14:23:10  \n",
       "9   /news/news_read.naver?article_id=0000062879&of...  2024-08-06 14:22:12  \n",
       "10  /news/news_read.naver?article_id=0002346101&of...  2024-08-06 14:14:11  \n",
       "11  /news/news_read.naver?article_id=0003229548&of...  2024-08-06 14:09:12  \n",
       "12  /news/news_read.naver?article_id=0005018646&of...  2024-08-06 13:45:12  \n",
       "13  /news/news_read.naver?article_id=0000310914&of...  2024-08-06 13:00:16  \n",
       "14  /news/news_read.naver?article_id=0005223890&of...  2024-08-06 12:42:11  \n",
       "15  /news/news_read.naver?article_id=0001019111&of...  2024-08-06 11:58:59  \n",
       "16  /news/news_read.naver?article_id=0002652772&of...  2024-08-06 11:57:18  \n",
       "17  /news/news_read.naver?article_id=0007713262&of...  2024-08-06 11:55:45  \n",
       "18  /news/news_read.naver?article_id=0001174063&of...  2024-08-06 11:44:48  \n",
       "19  /news/news_read.naver?article_id=0002346031&of...  2024-08-06 11:41:11  "
      ]
     },
     "execution_count": 14,
     "metadata": {},
     "output_type": "execute_result"
    }
   ],
   "source": [
    "pd.DataFrame(data = {\n",
    "    '제목' : soup2.html_text(css = '.articleSubject > a'),\n",
    "    '링크' : soup2.html_attr(css = '.articleSubject > a', key = 'href'),\n",
    "    '날짜' : soup2.html_text(css = '.articleSummary > span.wdate')\n",
    "})"
   ]
  },
  {
   "cell_type": "code",
   "execution_count": null,
   "metadata": {},
   "outputs": [],
   "source": []
  }
 ],
 "metadata": {
  "kernelspec": {
   "display_name": "DataAnalysisProcess",
   "language": "python",
   "name": "python3"
  },
  "language_info": {
   "codemirror_mode": {
    "name": "ipython",
    "version": 3
   },
   "file_extension": ".py",
   "mimetype": "text/x-python",
   "name": "python",
   "nbconvert_exporter": "python",
   "pygments_lexer": "ipython3",
   "version": "3.11.8"
  }
 },
 "nbformat": 4,
 "nbformat_minor": 2
}
