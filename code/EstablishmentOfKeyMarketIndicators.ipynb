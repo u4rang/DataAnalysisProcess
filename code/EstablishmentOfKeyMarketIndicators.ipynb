{
 "cells": [
  {
   "cell_type": "markdown",
   "metadata": {},
   "source": [
    "### 초기화\n",
    " - 사이트 정보 : https://finance.naver.com/marketindex/"
   ]
  },
  {
   "cell_type": "code",
   "execution_count": 1,
   "metadata": {},
   "outputs": [],
   "source": [
    "import requests\n",
    "\n",
    "from bs4 import BeautifulSoup as bts"
   ]
  },
  {
   "cell_type": "code",
   "execution_count": 2,
   "metadata": {},
   "outputs": [],
   "source": [
    "url = 'https://finance.naver.com/marketindex/'\n",
    "res = requests.get(url)\n",
    "\n",
    "# HTTP 요청 상태 코드 확인\n",
    "if res.status_code != 200:\n",
    "    raise Exception(f\"Failed to retrieve data: {res.status_code}\")"
   ]
  },
  {
   "cell_type": "markdown",
   "metadata": {},
   "source": [
    "### Class 선언 - HTML 2 TEXT\n",
    "- BeatifulSoup 상속"
   ]
  },
  {
   "cell_type": "code",
   "execution_count": 3,
   "metadata": {},
   "outputs": [],
   "source": [
    "class NaverStockService(bts):\n",
    "    def html2text(self, css):\n",
    "        try:\n",
    "            items = self.select(selector=css)\n",
    "            \n",
    "            if not items:\n",
    "                raise Exception(\"No Establishment of Key Market Indicator information found in Naver Stock Service\")\n",
    "            \n",
    "            # 리스트 내포 사용하여 result 리스트 생성\n",
    "            result = [item.text for item in items]\n",
    "\n",
    "            return result\n",
    "        \n",
    "        except requests.RequestException as e:\n",
    "            return [f\"Request error: {e}\"]\n",
    "        except Exception as e:\n",
    "            return [f\"An error occurred: {e}\"]"
   ]
  },
  {
   "cell_type": "code",
   "execution_count": 4,
   "metadata": {},
   "outputs": [],
   "source": [
    "naverStockService = NaverStockService(markup=res.text, features='html.parser')"
   ]
  },
  {
   "cell_type": "markdown",
   "metadata": {},
   "source": [
    "### 환전 고시 환율"
   ]
  },
  {
   "cell_type": "code",
   "execution_count": 5,
   "metadata": {},
   "outputs": [],
   "source": [
    "concurrencyUnitCss = '#exchangeList > li > a > h3 > span.blind'\n",
    "exchangePostedRateCss = '#exchangeList span.value'"
   ]
  },
  {
   "cell_type": "code",
   "execution_count": 6,
   "metadata": {},
   "outputs": [],
   "source": [
    "resultConcurrencyUnit = naverStockService.html2text(concurrencyUnitCss)"
   ]
  },
  {
   "cell_type": "code",
   "execution_count": 7,
   "metadata": {},
   "outputs": [],
   "source": [
    "resultExchangePostedRate = naverStockService.html2text(exchangePostedRateCss)"
   ]
  },
  {
   "cell_type": "code",
   "execution_count": 8,
   "metadata": {},
   "outputs": [
    {
     "name": "stdout",
     "output_type": "stream",
     "text": [
      "[환전 고시 환율]\n",
      "미국 USD = 1,374.50 원\n",
      "일본 JPY(100엔) = 941.99 원\n",
      "유럽연합 EUR = 1,504.87 원\n",
      "중국 CNY = 192.35 원\n"
     ]
    }
   ],
   "source": [
    "print('[환전 고시 환율]')\n",
    "for concurrencyUnit, exchangePostedRate in zip(resultConcurrencyUnit, resultExchangePostedRate):\n",
    "    print(f\"{concurrencyUnit} = {exchangePostedRate} 원\")"
   ]
  },
  {
   "cell_type": "markdown",
   "metadata": {},
   "source": [
    "### 국제 시장 환율"
   ]
  },
  {
   "cell_type": "code",
   "execution_count": 9,
   "metadata": {},
   "outputs": [],
   "source": [
    "worldExchangeTitleCss = '#worldExchangeList > li > a > h3 > span.blind'\n",
    "worldExchangeRateCss = '#worldExchangeList span.value'\n",
    "worldExchangeUnitCss = '#worldExchangeList span > span'\n"
   ]
  },
  {
   "cell_type": "code",
   "execution_count": 10,
   "metadata": {},
   "outputs": [],
   "source": [
    "resultWorldExchangeTitle = naverStockService.html2text(worldExchangeTitleCss)"
   ]
  },
  {
   "cell_type": "code",
   "execution_count": 11,
   "metadata": {},
   "outputs": [],
   "source": [
    "resultWorldExchangeRate = naverStockService.html2text(worldExchangeRateCss)"
   ]
  },
  {
   "cell_type": "code",
   "execution_count": 12,
   "metadata": {},
   "outputs": [],
   "source": [
    "resultWorldExchangeUnit = naverStockService.html2text(worldExchangeUnitCss)"
   ]
  },
  {
   "cell_type": "code",
   "execution_count": 13,
   "metadata": {},
   "outputs": [
    {
     "name": "stdout",
     "output_type": "stream",
     "text": [
      "[국제 시장 환율]\n",
      "달러/일본 엔 = 142.5700 엔\n",
      "유로/달러 = 1.0978 달러\n",
      "영국 파운드/달러 = 1.2758 달러\n"
     ]
    }
   ],
   "source": [
    "print('[국제 시장 환율]')\n",
    "for worldExchangeTitle, worldExchangeRate, worldExchangeUnit in zip(resultWorldExchangeTitle, resultWorldExchangeRate, resultWorldExchangeUnit):\n",
    "    print(f\"{worldExchangeTitle} = {worldExchangeRate} {worldExchangeUnit}\")"
   ]
  },
  {
   "cell_type": "markdown",
   "metadata": {},
   "source": [
    "### 유가 / 금 시세"
   ]
  },
  {
   "cell_type": "code",
   "execution_count": 14,
   "metadata": {},
   "outputs": [],
   "source": [
    "oilGoldListTitleCss = '#oilGoldList > li > a > h3 > span.blind'\n",
    "oilGoldListRateCss = '#oilGoldList span.value'\n",
    "oilGoldListUnitCss = '#oilGoldList span > span'"
   ]
  },
  {
   "cell_type": "code",
   "execution_count": 15,
   "metadata": {},
   "outputs": [],
   "source": [
    "resultOilGoldListTitle = naverStockService.html2text(oilGoldListTitleCss)"
   ]
  },
  {
   "cell_type": "code",
   "execution_count": 16,
   "metadata": {},
   "outputs": [],
   "source": [
    "resultOilGoldListRate = naverStockService.html2text(oilGoldListRateCss)"
   ]
  },
  {
   "cell_type": "code",
   "execution_count": 17,
   "metadata": {},
   "outputs": [],
   "source": [
    "resultOilGoldListUnit = naverStockService.html2text(oilGoldListUnitCss)"
   ]
  },
  {
   "cell_type": "code",
   "execution_count": 18,
   "metadata": {},
   "outputs": [
    {
     "name": "stdout",
     "output_type": "stream",
     "text": [
      "[유가 금 시세]\n",
      "WTI = 72.94 달러\n",
      "휘발유 = 1707.4 원\n",
      "국제 금 = 2444.4 달러\n",
      "국내 금 = 106077.67 원\n"
     ]
    }
   ],
   "source": [
    "print('[유가 금 시세]')\n",
    "for oilGoldListTitle, oilGoldListRate, oilGoldListUnit in zip(resultOilGoldListTitle, resultOilGoldListRate, resultOilGoldListUnit):\n",
    "    print(f\"{oilGoldListTitle} = {oilGoldListRate} {oilGoldListUnit}\")"
   ]
  }
 ],
 "metadata": {
  "kernelspec": {
   "display_name": "DataAnalysisProcess",
   "language": "python",
   "name": "python3"
  },
  "language_info": {
   "codemirror_mode": {
    "name": "ipython",
    "version": 3
   },
   "file_extension": ".py",
   "mimetype": "text/x-python",
   "name": "python",
   "nbconvert_exporter": "python",
   "pygments_lexer": "ipython3",
   "version": "3.11.8"
  }
 },
 "nbformat": 4,
 "nbformat_minor": 2
}
