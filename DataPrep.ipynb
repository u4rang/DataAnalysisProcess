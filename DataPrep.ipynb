{
 "cells": [
  {
   "cell_type": "markdown",
   "metadata": {},
   "source": [
    "# Data Prep (정형 데이터 전처리)\n",
    "- 데이터 분석\n",
    "  - 주제 → 데이터 → 전처리 → 모형 → 리포팅 → 활용\n",
    "\n",
    "### 주제\n",
    " - Step 1) 목표변수 : 수율 (측정가능)\n",
    " - Step 2) 가설 수립 가능 \n",
    " - Step 3) 도메인 지식 기반"
   ]
  },
  {
   "cell_type": "code",
   "execution_count": 1,
   "metadata": {},
   "outputs": [],
   "source": [
    "import os\n",
    "import numpy as np\n",
    "import pandas as pd"
   ]
  },
  {
   "cell_type": "code",
   "execution_count": 2,
   "metadata": {},
   "outputs": [
    {
     "data": {
      "text/plain": [
       "'c:\\\\git\\\\DataAnalysisProcess'"
      ]
     },
     "execution_count": 2,
     "metadata": {},
     "output_type": "execute_result"
    }
   ],
   "source": [
    "os.getcwd()"
   ]
  },
  {
   "cell_type": "code",
   "execution_count": 3,
   "metadata": {},
   "outputs": [],
   "source": [
    "os.chdir('./data')"
   ]
  },
  {
   "cell_type": "code",
   "execution_count": 4,
   "metadata": {},
   "outputs": [
    {
     "data": {
      "text/plain": [
       "'c:\\\\git\\\\DataAnalysisProcess\\\\data'"
      ]
     },
     "execution_count": 4,
     "metadata": {},
     "output_type": "execute_result"
    }
   ],
   "source": [
    "os.getcwd()"
   ]
  },
  {
   "cell_type": "code",
   "execution_count": 5,
   "metadata": {},
   "outputs": [],
   "source": [
    "df = pd.read_excel(io = 'APT_Price_2023.xlsx')"
   ]
  },
  {
   "cell_type": "code",
   "execution_count": 6,
   "metadata": {},
   "outputs": [
    {
     "data": {
      "text/html": [
       "<div>\n",
       "<style scoped>\n",
       "    .dataframe tbody tr th:only-of-type {\n",
       "        vertical-align: middle;\n",
       "    }\n",
       "\n",
       "    .dataframe tbody tr th {\n",
       "        vertical-align: top;\n",
       "    }\n",
       "\n",
       "    .dataframe thead th {\n",
       "        text-align: right;\n",
       "    }\n",
       "</style>\n",
       "<table border=\"1\" class=\"dataframe\">\n",
       "  <thead>\n",
       "    <tr style=\"text-align: right;\">\n",
       "      <th></th>\n",
       "      <th>거래금액</th>\n",
       "      <th>거래유형</th>\n",
       "      <th>건축년도</th>\n",
       "      <th>년</th>\n",
       "      <th>등기일자</th>\n",
       "      <th>법정동</th>\n",
       "      <th>아파트</th>\n",
       "      <th>월</th>\n",
       "      <th>일</th>\n",
       "      <th>전용면적</th>\n",
       "      <th>중개사소재지</th>\n",
       "      <th>지번</th>\n",
       "      <th>지역코드</th>\n",
       "      <th>층</th>\n",
       "      <th>해제사유발생일</th>\n",
       "      <th>해제여부</th>\n",
       "    </tr>\n",
       "  </thead>\n",
       "  <tbody>\n",
       "    <tr>\n",
       "      <th>0</th>\n",
       "      <td>24,000</td>\n",
       "      <td>직거래</td>\n",
       "      <td>1999</td>\n",
       "      <td>2023</td>\n",
       "      <td>23.03.06</td>\n",
       "      <td>역삼동</td>\n",
       "      <td>현대휴먼터치빌</td>\n",
       "      <td>1</td>\n",
       "      <td>6</td>\n",
       "      <td>25.92</td>\n",
       "      <td>NaN</td>\n",
       "      <td>606-18</td>\n",
       "      <td>11680</td>\n",
       "      <td>10</td>\n",
       "      <td>NaN</td>\n",
       "      <td>NaN</td>\n",
       "    </tr>\n",
       "    <tr>\n",
       "      <th>1</th>\n",
       "      <td>23,000</td>\n",
       "      <td>중개거래</td>\n",
       "      <td>2003</td>\n",
       "      <td>2023</td>\n",
       "      <td>23.01.13</td>\n",
       "      <td>역삼동</td>\n",
       "      <td>진넥스빌2</td>\n",
       "      <td>1</td>\n",
       "      <td>12</td>\n",
       "      <td>23.85</td>\n",
       "      <td>서울 강남구</td>\n",
       "      <td>706-24</td>\n",
       "      <td>11680</td>\n",
       "      <td>10</td>\n",
       "      <td>NaN</td>\n",
       "      <td>NaN</td>\n",
       "    </tr>\n",
       "    <tr>\n",
       "      <th>2</th>\n",
       "      <td>280,000</td>\n",
       "      <td>중개거래</td>\n",
       "      <td>2006</td>\n",
       "      <td>2023</td>\n",
       "      <td>23.08.11</td>\n",
       "      <td>역삼동</td>\n",
       "      <td>개나리래미안</td>\n",
       "      <td>1</td>\n",
       "      <td>12</td>\n",
       "      <td>144.55</td>\n",
       "      <td>서울 강남구</td>\n",
       "      <td>754</td>\n",
       "      <td>11680</td>\n",
       "      <td>17</td>\n",
       "      <td>NaN</td>\n",
       "      <td>NaN</td>\n",
       "    </tr>\n",
       "    <tr>\n",
       "      <th>3</th>\n",
       "      <td>14,000</td>\n",
       "      <td>중개거래</td>\n",
       "      <td>2012</td>\n",
       "      <td>2023</td>\n",
       "      <td>23.01.20</td>\n",
       "      <td>역삼동</td>\n",
       "      <td>요진와이시티미니</td>\n",
       "      <td>1</td>\n",
       "      <td>14</td>\n",
       "      <td>12.94</td>\n",
       "      <td>서울 강남구</td>\n",
       "      <td>727-9</td>\n",
       "      <td>11680</td>\n",
       "      <td>4</td>\n",
       "      <td>NaN</td>\n",
       "      <td>NaN</td>\n",
       "    </tr>\n",
       "    <tr>\n",
       "      <th>4</th>\n",
       "      <td>210,000</td>\n",
       "      <td>중개거래</td>\n",
       "      <td>2006</td>\n",
       "      <td>2023</td>\n",
       "      <td>23.04.19</td>\n",
       "      <td>역삼동</td>\n",
       "      <td>개나리래미안</td>\n",
       "      <td>1</td>\n",
       "      <td>19</td>\n",
       "      <td>84.93</td>\n",
       "      <td>서울 강남구</td>\n",
       "      <td>754</td>\n",
       "      <td>11680</td>\n",
       "      <td>9</td>\n",
       "      <td>NaN</td>\n",
       "      <td>NaN</td>\n",
       "    </tr>\n",
       "  </tbody>\n",
       "</table>\n",
       "</div>"
      ],
      "text/plain": [
       "      거래금액  거래유형  건축년도     년      등기일자  법정동       아파트  월   일    전용면적  중개사소재지  \\\n",
       "0   24,000   직거래  1999  2023  23.03.06  역삼동   현대휴먼터치빌  1   6   25.92     NaN   \n",
       "1   23,000  중개거래  2003  2023  23.01.13  역삼동     진넥스빌2  1  12   23.85  서울 강남구   \n",
       "2  280,000  중개거래  2006  2023  23.08.11  역삼동    개나리래미안  1  12  144.55  서울 강남구   \n",
       "3   14,000  중개거래  2012  2023  23.01.20  역삼동  요진와이시티미니  1  14   12.94  서울 강남구   \n",
       "4  210,000  중개거래  2006  2023  23.04.19  역삼동    개나리래미안  1  19   84.93  서울 강남구   \n",
       "\n",
       "       지번   지역코드   층 해제사유발생일 해제여부  \n",
       "0  606-18  11680  10     NaN  NaN  \n",
       "1  706-24  11680  10     NaN  NaN  \n",
       "2     754  11680  17     NaN  NaN  \n",
       "3   727-9  11680   4     NaN  NaN  \n",
       "4     754  11680   9     NaN  NaN  "
      ]
     },
     "execution_count": 6,
     "metadata": {},
     "output_type": "execute_result"
    }
   ],
   "source": [
    "df.head()"
   ]
  },
  {
   "cell_type": "markdown",
   "metadata": {},
   "source": [
    "### Dtype\n",
    "#### object \n",
    " - 시리즈 원소에 문자열 포함\n",
    " - object는 str 이 아닌 str을 포함한다\n",
    "#### int64\n",
    " - 정수\n",
    "#### float64\n",
    " - 실수\n",
    "\n",
    "※ 열별 자료형을 판단하는 것은 도메인 지식 필요"
   ]
  },
  {
   "cell_type": "code",
   "execution_count": 7,
   "metadata": {},
   "outputs": [
    {
     "name": "stdout",
     "output_type": "stream",
     "text": [
      "<class 'pandas.core.frame.DataFrame'>\n",
      "RangeIndex: 2260 entries, 0 to 2259\n",
      "Data columns (total 16 columns):\n",
      " #   Column   Non-Null Count  Dtype  \n",
      "---  ------   --------------  -----  \n",
      " 0   거래금액     2260 non-null   object \n",
      " 1   거래유형     2260 non-null   object \n",
      " 2   건축년도     2260 non-null   int64  \n",
      " 3   년        2260 non-null   int64  \n",
      " 4   등기일자     1798 non-null   object \n",
      " 5   법정동      2260 non-null   object \n",
      " 6   아파트      2260 non-null   object \n",
      " 7   월        2260 non-null   int64  \n",
      " 8   일        2260 non-null   int64  \n",
      " 9   전용면적     2260 non-null   float64\n",
      " 10  중개사소재지   2183 non-null   object \n",
      " 11  지번       2260 non-null   object \n",
      " 12  지역코드     2260 non-null   int64  \n",
      " 13  층        2260 non-null   int64  \n",
      " 14  해제사유발생일  104 non-null    object \n",
      " 15  해제여부     104 non-null    object \n",
      "dtypes: float64(1), int64(6), object(9)\n",
      "memory usage: 282.6+ KB\n"
     ]
    }
   ],
   "source": [
    "# 행 개수, 열 개수, 행이름, 열이름, 열별 결측값 아닌 개수 및 자료형 출력\n",
    "df.info()"
   ]
  },
  {
   "cell_type": "code",
   "execution_count": 8,
   "metadata": {},
   "outputs": [
    {
     "data": {
      "text/plain": [
       "(2260, 16)"
      ]
     },
     "execution_count": 8,
     "metadata": {},
     "output_type": "execute_result"
    }
   ],
   "source": [
    "# 행 및 열 개수 확인하기\n",
    "df.shape"
   ]
  },
  {
   "cell_type": "code",
   "execution_count": 9,
   "metadata": {},
   "outputs": [
    {
     "data": {
      "text/plain": [
       "2260"
      ]
     },
     "execution_count": 9,
     "metadata": {},
     "output_type": "execute_result"
    }
   ],
   "source": [
    "df.shape[0]"
   ]
  },
  {
   "cell_type": "code",
   "execution_count": 10,
   "metadata": {},
   "outputs": [
    {
     "data": {
      "text/plain": [
       "거래금액        object\n",
       "거래유형        object\n",
       "건축년도         int64\n",
       "년            int64\n",
       "등기일자        object\n",
       "법정동         object\n",
       "아파트         object\n",
       "월            int64\n",
       "일            int64\n",
       "전용면적       float64\n",
       "중개사소재지      object\n",
       "지번          object\n",
       "지역코드         int64\n",
       "층            int64\n",
       "해제사유발생일     object\n",
       "해제여부        object\n",
       "dtype: object"
      ]
     },
     "execution_count": 10,
     "metadata": {},
     "output_type": "execute_result"
    }
   ],
   "source": [
    "# 열별 자료형을 series 로 보여주기\n",
    "df.dtypes"
   ]
  },
  {
   "cell_type": "markdown",
   "metadata": {},
   "source": [
    "### 결측값 처리 방법\n",
    "#### 원본 데이터\n",
    "#### 단순 대체(Simple Imputation)\n",
    " - 결측값을 대표값(ex. 연속형이면 평균 또는 중위수, 범주형이면 최빈값 등)으로 대체\n",
    "#### 결측값이 있는 행 삭제\n",
    " - 특정 열에서 결측값이 일부(예를 들어, 5% 미만) 있다면 결측값이 있는 행을 삭제하는 방법\n",
    "#### 다중대체(Multiple Imputation)\n",
    " - 원본 데이터셋의 분포에 기반한 여러 데이터셋을 무작위로 생성하고 다중회귀로 추정\n",
    " - 평균의 기댓값 == 모평균\n",
    "##### 다중회귀\n",
    " - Y : 몸무게\n",
    " - X1 : 키\n",
    " - X2 : 성\n",
    " - X3 : 나이\n",
    "```\n",
    "Y = X1 + X2 + X3\n",
    "```\n",
    "\n",
    "#### 참고자료\n",
    " - https://bit.ly/imputations"
   ]
  },
  {
   "cell_type": "markdown",
   "metadata": {},
   "source": [
    "### 열별 결측값 확인하기"
   ]
  },
  {
   "cell_type": "code",
   "execution_count": 11,
   "metadata": {},
   "outputs": [
    {
     "data": {
      "text/plain": [
       "거래금액          0\n",
       "거래유형          0\n",
       "건축년도          0\n",
       "년             0\n",
       "등기일자        462\n",
       "법정동           0\n",
       "아파트           0\n",
       "월             0\n",
       "일             0\n",
       "전용면적          0\n",
       "중개사소재지       77\n",
       "지번            0\n",
       "지역코드          0\n",
       "층             0\n",
       "해제사유발생일    2156\n",
       "해제여부       2156\n",
       "dtype: int64"
      ]
     },
     "execution_count": 11,
     "metadata": {},
     "output_type": "execute_result"
    }
   ],
   "source": [
    "# 열별 결측값 개수\n",
    "df.isna().sum()"
   ]
  },
  {
   "cell_type": "code",
   "execution_count": 12,
   "metadata": {},
   "outputs": [
    {
     "data": {
      "text/plain": [
       "거래금액        0.000000\n",
       "거래유형        0.000000\n",
       "건축년도        0.000000\n",
       "년           0.000000\n",
       "등기일자       20.442478\n",
       "법정동         0.000000\n",
       "아파트         0.000000\n",
       "월           0.000000\n",
       "일           0.000000\n",
       "전용면적        0.000000\n",
       "중개사소재지      3.407080\n",
       "지번          0.000000\n",
       "지역코드        0.000000\n",
       "층           0.000000\n",
       "해제사유발생일    95.398230\n",
       "해제여부       95.398230\n",
       "dtype: float64"
      ]
     },
     "execution_count": 12,
     "metadata": {},
     "output_type": "execute_result"
    }
   ],
   "source": [
    "# 열별 결측값 평균\n",
    "df.isna().mean() * 100"
   ]
  },
  {
   "cell_type": "code",
   "execution_count": 13,
   "metadata": {},
   "outputs": [
    {
     "data": {
      "text/html": [
       "<div>\n",
       "<style scoped>\n",
       "    .dataframe tbody tr th:only-of-type {\n",
       "        vertical-align: middle;\n",
       "    }\n",
       "\n",
       "    .dataframe tbody tr th {\n",
       "        vertical-align: top;\n",
       "    }\n",
       "\n",
       "    .dataframe thead th {\n",
       "        text-align: right;\n",
       "    }\n",
       "</style>\n",
       "<table border=\"1\" class=\"dataframe\">\n",
       "  <thead>\n",
       "    <tr style=\"text-align: right;\">\n",
       "      <th></th>\n",
       "      <th>거래금액</th>\n",
       "      <th>거래유형</th>\n",
       "      <th>건축년도</th>\n",
       "      <th>년</th>\n",
       "      <th>등기일자</th>\n",
       "      <th>법정동</th>\n",
       "      <th>아파트</th>\n",
       "      <th>월</th>\n",
       "      <th>일</th>\n",
       "      <th>전용면적</th>\n",
       "      <th>중개사소재지</th>\n",
       "      <th>지번</th>\n",
       "      <th>지역코드</th>\n",
       "      <th>층</th>\n",
       "      <th>해제사유발생일</th>\n",
       "      <th>해제여부</th>\n",
       "    </tr>\n",
       "  </thead>\n",
       "  <tbody>\n",
       "    <tr>\n",
       "      <th>0</th>\n",
       "      <td>24,000</td>\n",
       "      <td>직거래</td>\n",
       "      <td>1999</td>\n",
       "      <td>2023</td>\n",
       "      <td>23.03.06</td>\n",
       "      <td>역삼동</td>\n",
       "      <td>현대휴먼터치빌</td>\n",
       "      <td>1</td>\n",
       "      <td>6</td>\n",
       "      <td>25.9200</td>\n",
       "      <td>NULL</td>\n",
       "      <td>606-18</td>\n",
       "      <td>11680</td>\n",
       "      <td>10</td>\n",
       "      <td>NULL</td>\n",
       "      <td>NULL</td>\n",
       "    </tr>\n",
       "    <tr>\n",
       "      <th>1</th>\n",
       "      <td>23,000</td>\n",
       "      <td>중개거래</td>\n",
       "      <td>2003</td>\n",
       "      <td>2023</td>\n",
       "      <td>23.01.13</td>\n",
       "      <td>역삼동</td>\n",
       "      <td>진넥스빌2</td>\n",
       "      <td>1</td>\n",
       "      <td>12</td>\n",
       "      <td>23.8500</td>\n",
       "      <td>서울 강남구</td>\n",
       "      <td>706-24</td>\n",
       "      <td>11680</td>\n",
       "      <td>10</td>\n",
       "      <td>NULL</td>\n",
       "      <td>NULL</td>\n",
       "    </tr>\n",
       "    <tr>\n",
       "      <th>2</th>\n",
       "      <td>280,000</td>\n",
       "      <td>중개거래</td>\n",
       "      <td>2006</td>\n",
       "      <td>2023</td>\n",
       "      <td>23.08.11</td>\n",
       "      <td>역삼동</td>\n",
       "      <td>개나리래미안</td>\n",
       "      <td>1</td>\n",
       "      <td>12</td>\n",
       "      <td>144.5500</td>\n",
       "      <td>서울 강남구</td>\n",
       "      <td>754</td>\n",
       "      <td>11680</td>\n",
       "      <td>17</td>\n",
       "      <td>NULL</td>\n",
       "      <td>NULL</td>\n",
       "    </tr>\n",
       "    <tr>\n",
       "      <th>3</th>\n",
       "      <td>14,000</td>\n",
       "      <td>중개거래</td>\n",
       "      <td>2012</td>\n",
       "      <td>2023</td>\n",
       "      <td>23.01.20</td>\n",
       "      <td>역삼동</td>\n",
       "      <td>요진와이시티미니</td>\n",
       "      <td>1</td>\n",
       "      <td>14</td>\n",
       "      <td>12.9400</td>\n",
       "      <td>서울 강남구</td>\n",
       "      <td>727-9</td>\n",
       "      <td>11680</td>\n",
       "      <td>4</td>\n",
       "      <td>NULL</td>\n",
       "      <td>NULL</td>\n",
       "    </tr>\n",
       "    <tr>\n",
       "      <th>4</th>\n",
       "      <td>210,000</td>\n",
       "      <td>중개거래</td>\n",
       "      <td>2006</td>\n",
       "      <td>2023</td>\n",
       "      <td>23.04.19</td>\n",
       "      <td>역삼동</td>\n",
       "      <td>개나리래미안</td>\n",
       "      <td>1</td>\n",
       "      <td>19</td>\n",
       "      <td>84.9300</td>\n",
       "      <td>서울 강남구</td>\n",
       "      <td>754</td>\n",
       "      <td>11680</td>\n",
       "      <td>9</td>\n",
       "      <td>NULL</td>\n",
       "      <td>NULL</td>\n",
       "    </tr>\n",
       "    <tr>\n",
       "      <th>...</th>\n",
       "      <td>...</td>\n",
       "      <td>...</td>\n",
       "      <td>...</td>\n",
       "      <td>...</td>\n",
       "      <td>...</td>\n",
       "      <td>...</td>\n",
       "      <td>...</td>\n",
       "      <td>...</td>\n",
       "      <td>...</td>\n",
       "      <td>...</td>\n",
       "      <td>...</td>\n",
       "      <td>...</td>\n",
       "      <td>...</td>\n",
       "      <td>...</td>\n",
       "      <td>...</td>\n",
       "      <td>...</td>\n",
       "    </tr>\n",
       "    <tr>\n",
       "      <th>2255</th>\n",
       "      <td>433,000</td>\n",
       "      <td>중개거래</td>\n",
       "      <td>2002</td>\n",
       "      <td>2023</td>\n",
       "      <td>NULL</td>\n",
       "      <td>도곡동</td>\n",
       "      <td>타워팰리스1</td>\n",
       "      <td>12</td>\n",
       "      <td>2</td>\n",
       "      <td>164.9700</td>\n",
       "      <td>서울 강남구</td>\n",
       "      <td>467</td>\n",
       "      <td>11680</td>\n",
       "      <td>18</td>\n",
       "      <td>NULL</td>\n",
       "      <td>NULL</td>\n",
       "    </tr>\n",
       "    <tr>\n",
       "      <th>2256</th>\n",
       "      <td>192,000</td>\n",
       "      <td>중개거래</td>\n",
       "      <td>1978</td>\n",
       "      <td>2023</td>\n",
       "      <td>NULL</td>\n",
       "      <td>도곡동</td>\n",
       "      <td>도곡쌍용예가</td>\n",
       "      <td>12</td>\n",
       "      <td>5</td>\n",
       "      <td>107.5300</td>\n",
       "      <td>서울 강남구</td>\n",
       "      <td>933</td>\n",
       "      <td>11680</td>\n",
       "      <td>8</td>\n",
       "      <td>NULL</td>\n",
       "      <td>NULL</td>\n",
       "    </tr>\n",
       "    <tr>\n",
       "      <th>2257</th>\n",
       "      <td>215,000</td>\n",
       "      <td>중개거래</td>\n",
       "      <td>2006</td>\n",
       "      <td>2023</td>\n",
       "      <td>NULL</td>\n",
       "      <td>도곡동</td>\n",
       "      <td>도곡렉슬</td>\n",
       "      <td>12</td>\n",
       "      <td>6</td>\n",
       "      <td>59.9818</td>\n",
       "      <td>서울 강남구</td>\n",
       "      <td>527</td>\n",
       "      <td>11680</td>\n",
       "      <td>19</td>\n",
       "      <td>NULL</td>\n",
       "      <td>NULL</td>\n",
       "    </tr>\n",
       "    <tr>\n",
       "      <th>2258</th>\n",
       "      <td>41,800</td>\n",
       "      <td>중개거래</td>\n",
       "      <td>1999</td>\n",
       "      <td>2023</td>\n",
       "      <td>23.12.28</td>\n",
       "      <td>도곡동</td>\n",
       "      <td>현대비젼21</td>\n",
       "      <td>12</td>\n",
       "      <td>13</td>\n",
       "      <td>32.6500</td>\n",
       "      <td>서울 강남구</td>\n",
       "      <td>467-19</td>\n",
       "      <td>11680</td>\n",
       "      <td>23</td>\n",
       "      <td>NULL</td>\n",
       "      <td>NULL</td>\n",
       "    </tr>\n",
       "    <tr>\n",
       "      <th>2259</th>\n",
       "      <td>320,000</td>\n",
       "      <td>중개거래</td>\n",
       "      <td>1985</td>\n",
       "      <td>2023</td>\n",
       "      <td>NULL</td>\n",
       "      <td>도곡동</td>\n",
       "      <td>우성4</td>\n",
       "      <td>12</td>\n",
       "      <td>22</td>\n",
       "      <td>126.4600</td>\n",
       "      <td>서울 강남구</td>\n",
       "      <td>465</td>\n",
       "      <td>11680</td>\n",
       "      <td>8</td>\n",
       "      <td>NULL</td>\n",
       "      <td>NULL</td>\n",
       "    </tr>\n",
       "  </tbody>\n",
       "</table>\n",
       "<p>2260 rows × 16 columns</p>\n",
       "</div>"
      ],
      "text/plain": [
       "         거래금액  거래유형  건축년도     년      등기일자  법정동       아파트   월   일      전용면적  \\\n",
       "0      24,000   직거래  1999  2023  23.03.06  역삼동   현대휴먼터치빌   1   6   25.9200   \n",
       "1      23,000  중개거래  2003  2023  23.01.13  역삼동     진넥스빌2   1  12   23.8500   \n",
       "2     280,000  중개거래  2006  2023  23.08.11  역삼동    개나리래미안   1  12  144.5500   \n",
       "3      14,000  중개거래  2012  2023  23.01.20  역삼동  요진와이시티미니   1  14   12.9400   \n",
       "4     210,000  중개거래  2006  2023  23.04.19  역삼동    개나리래미안   1  19   84.9300   \n",
       "...       ...   ...   ...   ...       ...  ...       ...  ..  ..       ...   \n",
       "2255  433,000  중개거래  2002  2023      NULL  도곡동    타워팰리스1  12   2  164.9700   \n",
       "2256  192,000  중개거래  1978  2023      NULL  도곡동    도곡쌍용예가  12   5  107.5300   \n",
       "2257  215,000  중개거래  2006  2023      NULL  도곡동      도곡렉슬  12   6   59.9818   \n",
       "2258   41,800  중개거래  1999  2023  23.12.28  도곡동    현대비젼21  12  13   32.6500   \n",
       "2259  320,000  중개거래  1985  2023      NULL  도곡동       우성4  12  22  126.4600   \n",
       "\n",
       "      중개사소재지      지번   지역코드   층 해제사유발생일  해제여부  \n",
       "0       NULL  606-18  11680  10    NULL  NULL  \n",
       "1     서울 강남구  706-24  11680  10    NULL  NULL  \n",
       "2     서울 강남구     754  11680  17    NULL  NULL  \n",
       "3     서울 강남구   727-9  11680   4    NULL  NULL  \n",
       "4     서울 강남구     754  11680   9    NULL  NULL  \n",
       "...      ...     ...    ...  ..     ...   ...  \n",
       "2255  서울 강남구     467  11680  18    NULL  NULL  \n",
       "2256  서울 강남구     933  11680   8    NULL  NULL  \n",
       "2257  서울 강남구     527  11680  19    NULL  NULL  \n",
       "2258  서울 강남구  467-19  11680  23    NULL  NULL  \n",
       "2259  서울 강남구     465  11680   8    NULL  NULL  \n",
       "\n",
       "[2260 rows x 16 columns]"
      ]
     },
     "execution_count": 13,
     "metadata": {},
     "output_type": "execute_result"
    }
   ],
   "source": [
    "# 결측값을 NULL 로 대입 - 권장하는 것 아님\n",
    "df.fillna('NULL')"
   ]
  },
  {
   "cell_type": "code",
   "execution_count": 14,
   "metadata": {},
   "outputs": [
    {
     "data": {
      "text/html": [
       "<div>\n",
       "<style scoped>\n",
       "    .dataframe tbody tr th:only-of-type {\n",
       "        vertical-align: middle;\n",
       "    }\n",
       "\n",
       "    .dataframe tbody tr th {\n",
       "        vertical-align: top;\n",
       "    }\n",
       "\n",
       "    .dataframe thead th {\n",
       "        text-align: right;\n",
       "    }\n",
       "</style>\n",
       "<table border=\"1\" class=\"dataframe\">\n",
       "  <thead>\n",
       "    <tr style=\"text-align: right;\">\n",
       "      <th></th>\n",
       "      <th>거래금액</th>\n",
       "      <th>거래유형</th>\n",
       "      <th>건축년도</th>\n",
       "      <th>년</th>\n",
       "      <th>등기일자</th>\n",
       "      <th>법정동</th>\n",
       "      <th>아파트</th>\n",
       "      <th>월</th>\n",
       "      <th>일</th>\n",
       "      <th>전용면적</th>\n",
       "      <th>중개사소재지</th>\n",
       "      <th>지번</th>\n",
       "      <th>지역코드</th>\n",
       "      <th>층</th>\n",
       "      <th>해제사유발생일</th>\n",
       "      <th>해제여부</th>\n",
       "    </tr>\n",
       "  </thead>\n",
       "  <tbody>\n",
       "  </tbody>\n",
       "</table>\n",
       "</div>"
      ],
      "text/plain": [
       "Empty DataFrame\n",
       "Columns: [거래금액, 거래유형, 건축년도, 년, 등기일자, 법정동, 아파트, 월, 일, 전용면적, 중개사소재지, 지번, 지역코드, 층, 해제사유발생일, 해제여부]\n",
       "Index: []"
      ]
     },
     "execution_count": 14,
     "metadata": {},
     "output_type": "execute_result"
    }
   ],
   "source": [
    "# 결측값이 있는 행을 삭제한 결과 df.dropna(axis=0)\n",
    "df.dropna()"
   ]
  },
  {
   "cell_type": "code",
   "execution_count": 15,
   "metadata": {},
   "outputs": [
    {
     "data": {
      "text/html": [
       "<div>\n",
       "<style scoped>\n",
       "    .dataframe tbody tr th:only-of-type {\n",
       "        vertical-align: middle;\n",
       "    }\n",
       "\n",
       "    .dataframe tbody tr th {\n",
       "        vertical-align: top;\n",
       "    }\n",
       "\n",
       "    .dataframe thead th {\n",
       "        text-align: right;\n",
       "    }\n",
       "</style>\n",
       "<table border=\"1\" class=\"dataframe\">\n",
       "  <thead>\n",
       "    <tr style=\"text-align: right;\">\n",
       "      <th></th>\n",
       "      <th>거래금액</th>\n",
       "      <th>거래유형</th>\n",
       "      <th>건축년도</th>\n",
       "      <th>년</th>\n",
       "      <th>법정동</th>\n",
       "      <th>아파트</th>\n",
       "      <th>월</th>\n",
       "      <th>일</th>\n",
       "      <th>전용면적</th>\n",
       "      <th>지번</th>\n",
       "      <th>지역코드</th>\n",
       "      <th>층</th>\n",
       "    </tr>\n",
       "  </thead>\n",
       "  <tbody>\n",
       "    <tr>\n",
       "      <th>0</th>\n",
       "      <td>24,000</td>\n",
       "      <td>직거래</td>\n",
       "      <td>1999</td>\n",
       "      <td>2023</td>\n",
       "      <td>역삼동</td>\n",
       "      <td>현대휴먼터치빌</td>\n",
       "      <td>1</td>\n",
       "      <td>6</td>\n",
       "      <td>25.9200</td>\n",
       "      <td>606-18</td>\n",
       "      <td>11680</td>\n",
       "      <td>10</td>\n",
       "    </tr>\n",
       "    <tr>\n",
       "      <th>1</th>\n",
       "      <td>23,000</td>\n",
       "      <td>중개거래</td>\n",
       "      <td>2003</td>\n",
       "      <td>2023</td>\n",
       "      <td>역삼동</td>\n",
       "      <td>진넥스빌2</td>\n",
       "      <td>1</td>\n",
       "      <td>12</td>\n",
       "      <td>23.8500</td>\n",
       "      <td>706-24</td>\n",
       "      <td>11680</td>\n",
       "      <td>10</td>\n",
       "    </tr>\n",
       "    <tr>\n",
       "      <th>2</th>\n",
       "      <td>280,000</td>\n",
       "      <td>중개거래</td>\n",
       "      <td>2006</td>\n",
       "      <td>2023</td>\n",
       "      <td>역삼동</td>\n",
       "      <td>개나리래미안</td>\n",
       "      <td>1</td>\n",
       "      <td>12</td>\n",
       "      <td>144.5500</td>\n",
       "      <td>754</td>\n",
       "      <td>11680</td>\n",
       "      <td>17</td>\n",
       "    </tr>\n",
       "    <tr>\n",
       "      <th>3</th>\n",
       "      <td>14,000</td>\n",
       "      <td>중개거래</td>\n",
       "      <td>2012</td>\n",
       "      <td>2023</td>\n",
       "      <td>역삼동</td>\n",
       "      <td>요진와이시티미니</td>\n",
       "      <td>1</td>\n",
       "      <td>14</td>\n",
       "      <td>12.9400</td>\n",
       "      <td>727-9</td>\n",
       "      <td>11680</td>\n",
       "      <td>4</td>\n",
       "    </tr>\n",
       "    <tr>\n",
       "      <th>4</th>\n",
       "      <td>210,000</td>\n",
       "      <td>중개거래</td>\n",
       "      <td>2006</td>\n",
       "      <td>2023</td>\n",
       "      <td>역삼동</td>\n",
       "      <td>개나리래미안</td>\n",
       "      <td>1</td>\n",
       "      <td>19</td>\n",
       "      <td>84.9300</td>\n",
       "      <td>754</td>\n",
       "      <td>11680</td>\n",
       "      <td>9</td>\n",
       "    </tr>\n",
       "    <tr>\n",
       "      <th>...</th>\n",
       "      <td>...</td>\n",
       "      <td>...</td>\n",
       "      <td>...</td>\n",
       "      <td>...</td>\n",
       "      <td>...</td>\n",
       "      <td>...</td>\n",
       "      <td>...</td>\n",
       "      <td>...</td>\n",
       "      <td>...</td>\n",
       "      <td>...</td>\n",
       "      <td>...</td>\n",
       "      <td>...</td>\n",
       "    </tr>\n",
       "    <tr>\n",
       "      <th>2255</th>\n",
       "      <td>433,000</td>\n",
       "      <td>중개거래</td>\n",
       "      <td>2002</td>\n",
       "      <td>2023</td>\n",
       "      <td>도곡동</td>\n",
       "      <td>타워팰리스1</td>\n",
       "      <td>12</td>\n",
       "      <td>2</td>\n",
       "      <td>164.9700</td>\n",
       "      <td>467</td>\n",
       "      <td>11680</td>\n",
       "      <td>18</td>\n",
       "    </tr>\n",
       "    <tr>\n",
       "      <th>2256</th>\n",
       "      <td>192,000</td>\n",
       "      <td>중개거래</td>\n",
       "      <td>1978</td>\n",
       "      <td>2023</td>\n",
       "      <td>도곡동</td>\n",
       "      <td>도곡쌍용예가</td>\n",
       "      <td>12</td>\n",
       "      <td>5</td>\n",
       "      <td>107.5300</td>\n",
       "      <td>933</td>\n",
       "      <td>11680</td>\n",
       "      <td>8</td>\n",
       "    </tr>\n",
       "    <tr>\n",
       "      <th>2257</th>\n",
       "      <td>215,000</td>\n",
       "      <td>중개거래</td>\n",
       "      <td>2006</td>\n",
       "      <td>2023</td>\n",
       "      <td>도곡동</td>\n",
       "      <td>도곡렉슬</td>\n",
       "      <td>12</td>\n",
       "      <td>6</td>\n",
       "      <td>59.9818</td>\n",
       "      <td>527</td>\n",
       "      <td>11680</td>\n",
       "      <td>19</td>\n",
       "    </tr>\n",
       "    <tr>\n",
       "      <th>2258</th>\n",
       "      <td>41,800</td>\n",
       "      <td>중개거래</td>\n",
       "      <td>1999</td>\n",
       "      <td>2023</td>\n",
       "      <td>도곡동</td>\n",
       "      <td>현대비젼21</td>\n",
       "      <td>12</td>\n",
       "      <td>13</td>\n",
       "      <td>32.6500</td>\n",
       "      <td>467-19</td>\n",
       "      <td>11680</td>\n",
       "      <td>23</td>\n",
       "    </tr>\n",
       "    <tr>\n",
       "      <th>2259</th>\n",
       "      <td>320,000</td>\n",
       "      <td>중개거래</td>\n",
       "      <td>1985</td>\n",
       "      <td>2023</td>\n",
       "      <td>도곡동</td>\n",
       "      <td>우성4</td>\n",
       "      <td>12</td>\n",
       "      <td>22</td>\n",
       "      <td>126.4600</td>\n",
       "      <td>465</td>\n",
       "      <td>11680</td>\n",
       "      <td>8</td>\n",
       "    </tr>\n",
       "  </tbody>\n",
       "</table>\n",
       "<p>2260 rows × 12 columns</p>\n",
       "</div>"
      ],
      "text/plain": [
       "         거래금액  거래유형  건축년도     년  법정동       아파트   월   일      전용면적      지번  \\\n",
       "0      24,000   직거래  1999  2023  역삼동   현대휴먼터치빌   1   6   25.9200  606-18   \n",
       "1      23,000  중개거래  2003  2023  역삼동     진넥스빌2   1  12   23.8500  706-24   \n",
       "2     280,000  중개거래  2006  2023  역삼동    개나리래미안   1  12  144.5500     754   \n",
       "3      14,000  중개거래  2012  2023  역삼동  요진와이시티미니   1  14   12.9400   727-9   \n",
       "4     210,000  중개거래  2006  2023  역삼동    개나리래미안   1  19   84.9300     754   \n",
       "...       ...   ...   ...   ...  ...       ...  ..  ..       ...     ...   \n",
       "2255  433,000  중개거래  2002  2023  도곡동    타워팰리스1  12   2  164.9700     467   \n",
       "2256  192,000  중개거래  1978  2023  도곡동    도곡쌍용예가  12   5  107.5300     933   \n",
       "2257  215,000  중개거래  2006  2023  도곡동      도곡렉슬  12   6   59.9818     527   \n",
       "2258   41,800  중개거래  1999  2023  도곡동    현대비젼21  12  13   32.6500  467-19   \n",
       "2259  320,000  중개거래  1985  2023  도곡동       우성4  12  22  126.4600     465   \n",
       "\n",
       "       지역코드   층  \n",
       "0     11680  10  \n",
       "1     11680  10  \n",
       "2     11680  17  \n",
       "3     11680   4  \n",
       "4     11680   9  \n",
       "...     ...  ..  \n",
       "2255  11680  18  \n",
       "2256  11680   8  \n",
       "2257  11680  19  \n",
       "2258  11680  23  \n",
       "2259  11680   8  \n",
       "\n",
       "[2260 rows x 12 columns]"
      ]
     },
     "execution_count": 15,
     "metadata": {},
     "output_type": "execute_result"
    }
   ],
   "source": [
    "# 결측값이 있는 열을 삭제한 결과\n",
    "df.dropna(axis=1)"
   ]
  },
  {
   "cell_type": "code",
   "execution_count": 16,
   "metadata": {},
   "outputs": [],
   "source": [
    "df = df.dropna(axis = 1)"
   ]
  },
  {
   "cell_type": "code",
   "execution_count": 17,
   "metadata": {},
   "outputs": [
    {
     "data": {
      "text/plain": [
       "(2260, 12)"
      ]
     },
     "execution_count": 17,
     "metadata": {},
     "output_type": "execute_result"
    }
   ],
   "source": [
    "df.shape"
   ]
  },
  {
   "cell_type": "markdown",
   "metadata": {},
   "source": [
    "### 빈 문자열에 특정 값 할당"
   ]
  },
  {
   "cell_type": "code",
   "execution_count": 18,
   "metadata": {},
   "outputs": [
    {
     "data": {
      "text/plain": [
       "1      A\n",
       "2      B\n",
       "3       \n",
       "4    NaN\n",
       "5      E\n",
       "dtype: object"
      ]
     },
     "execution_count": 18,
     "metadata": {},
     "output_type": "execute_result"
    }
   ],
   "source": [
    "# 빈 문자열을 갖는 시리즈를 생성 - index = range(1, 6)\n",
    "sr = pd.Series(data = ['A', 'B', '', np.nan, 'E'], index = [1,2,3,4,5])\n",
    "sr"
   ]
  },
  {
   "cell_type": "code",
   "execution_count": 19,
   "metadata": {},
   "outputs": [
    {
     "data": {
      "text/plain": [
       "1       A\n",
       "2       B\n",
       "3        \n",
       "4    NULL\n",
       "5       E\n",
       "dtype: object"
      ]
     },
     "execution_count": 19,
     "metadata": {},
     "output_type": "execute_result"
    }
   ],
   "source": [
    "# sr에서 결측값인 원소를 특정 값으로 대체\n",
    "sr.fillna(value = 'NULL')"
   ]
  },
  {
   "cell_type": "code",
   "execution_count": 20,
   "metadata": {},
   "outputs": [
    {
     "data": {
      "text/plain": [
       "1    False\n",
       "2    False\n",
       "3    False\n",
       "4     True\n",
       "5    False\n",
       "dtype: bool"
      ]
     },
     "execution_count": 20,
     "metadata": {},
     "output_type": "execute_result"
    }
   ],
   "source": [
    "sr.isna()"
   ]
  },
  {
   "cell_type": "code",
   "execution_count": 21,
   "metadata": {},
   "outputs": [],
   "source": [
    "sr.loc[sr.isna()] = 'NULL'"
   ]
  },
  {
   "cell_type": "code",
   "execution_count": 22,
   "metadata": {},
   "outputs": [
    {
     "data": {
      "text/plain": [
       "1       A\n",
       "2       B\n",
       "3        \n",
       "4    NULL\n",
       "5       E\n",
       "dtype: object"
      ]
     },
     "execution_count": 22,
     "metadata": {},
     "output_type": "execute_result"
    }
   ],
   "source": [
    "sr"
   ]
  },
  {
   "cell_type": "code",
   "execution_count": 23,
   "metadata": {},
   "outputs": [],
   "source": [
    "# sr에서 빈 문자열인 원소에 특정 값을 할당\n",
    "sr.loc[sr == ''] = 'NULL'"
   ]
  },
  {
   "cell_type": "code",
   "execution_count": 24,
   "metadata": {},
   "outputs": [
    {
     "data": {
      "text/plain": [
       "1       A\n",
       "2       B\n",
       "3    NULL\n",
       "4    NULL\n",
       "5       E\n",
       "dtype: object"
      ]
     },
     "execution_count": 24,
     "metadata": {},
     "output_type": "execute_result"
    }
   ],
   "source": [
    "sr"
   ]
  },
  {
   "cell_type": "code",
   "execution_count": 25,
   "metadata": {},
   "outputs": [
    {
     "data": {
      "text/plain": [
       "가      A\n",
       "가      B\n",
       "가       \n",
       "가    NaN\n",
       "가      E\n",
       "dtype: object"
      ]
     },
     "execution_count": 25,
     "metadata": {},
     "output_type": "execute_result"
    }
   ],
   "source": [
    "# 빈 문자열을 갖는 시리즈를 생성 with 인덱스 중복\n",
    "sr2 = pd.Series(data = ['A', 'B', '', np.nan, 'E'], index = ['가'] * 5)\n",
    "sr2"
   ]
  }
 ],
 "metadata": {
  "kernelspec": {
   "display_name": "DataAnalysisProcess",
   "language": "python",
   "name": "python3"
  },
  "language_info": {
   "codemirror_mode": {
    "name": "ipython",
    "version": 3
   },
   "file_extension": ".py",
   "mimetype": "text/x-python",
   "name": "python",
   "nbconvert_exporter": "python",
   "pygments_lexer": "ipython3",
   "version": "3.11.8"
  }
 },
 "nbformat": 4,
 "nbformat_minor": 2
}
